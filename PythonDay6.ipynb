{
  "nbformat": 4,
  "nbformat_minor": 0,
  "metadata": {
    "colab": {
      "provenance": [],
      "authorship_tag": "ABX9TyMIM2EQAQNayEe6CiZ4WV/6",
      "include_colab_link": true
    },
    "kernelspec": {
      "name": "python3",
      "display_name": "Python 3"
    },
    "language_info": {
      "name": "python"
    }
  },
  "cells": [
    {
      "cell_type": "markdown",
      "metadata": {
        "id": "view-in-github",
        "colab_type": "text"
      },
      "source": [
        "<a href=\"https://colab.research.google.com/github/KyungoeSim/pythonbasic/blob/main/PythonDay6.ipynb\" target=\"_parent\"><img src=\"https://colab.research.google.com/assets/colab-badge.svg\" alt=\"Open In Colab\"/></a>"
      ]
    },
    {
      "cell_type": "code",
      "source": [
        "# 클래스 변수 \n",
        "\n",
        "# 객체 변수는 다른 객체들의 영향을 받지 않고 독립적으로 그 값을 유지한다는 \n",
        "# 특징이 있음을 할수 있었다. 그렇지만 객체변수와는 그 성격이 완전히 다른 클래스 변수도 있다. \n",
        "\n",
        "class Family:\n",
        "  lastname = \"김\"\n",
        "# 클래스 변수는 공유된다. \n",
        "\n",
        "a = Family()\n",
        "b = Family()\n",
        "print(a.lastname)\n",
        "print(b.lastname)\n",
        "print(Family.lastname)"
      ],
      "metadata": {
        "colab": {
          "base_uri": "https://localhost:8080/"
        },
        "id": "DhaykZGppugm",
        "outputId": "8d80bbd2-2f65-4b45-8c78-3b3456d01e95"
      },
      "execution_count": null,
      "outputs": [
        {
          "output_type": "stream",
          "name": "stdout",
          "text": [
            "김\n",
            "김\n",
            "김\n"
          ]
        }
      ]
    },
    {
      "cell_type": "code",
      "source": [
        "Family.lastname = \"박\"\n"
      ],
      "metadata": {
        "id": "riun_YD7rCnm"
      },
      "execution_count": null,
      "outputs": []
    },
    {
      "cell_type": "code",
      "source": [
        "print(a.lastname)\n",
        "print(b.lastname)\n",
        "\n",
        "# 클래스 변수는 중요하게 쓰이지 않는다. 객체변수가 풜씬 중요하다. \n",
        "# 실무에서도 클래스 변수보다 객체변수를 사용하는 비율이 훨씬 많다. "
      ],
      "metadata": {
        "id": "VyedX0vJic3j",
        "colab": {
          "base_uri": "https://localhost:8080/"
        },
        "outputId": "84698b0f-d04d-43ab-b9eb-b8bbde61c7e1"
      },
      "execution_count": null,
      "outputs": [
        {
          "output_type": "stream",
          "name": "stdout",
          "text": [
            "박\n",
            "박\n"
          ]
        }
      ]
    },
    {
      "cell_type": "code",
      "source": [
        "# 예외 처리 Exeption\n",
        "\n",
        "# 프로그램을 만들다 보면 수많은 오류 / 예외 / 에러 가 발생된다. \n",
        "# 오류는 프로그램이 잘못 동작하는 것을 사전에 막아주는 일종의 배려로 볼수도 있다. \n",
        "# 오류 즉 예외를 어떻게 파이썬은 처리하는지 살펴 보자. \n",
        "\n",
        "# 파이썬에서 자주 접하게 되는 예외\n",
        "# ZeroDevisionError  0으로 나누는 예외\n",
        "# IndexError   없는 인덱스를 호출하였을때 발생 \n"
      ],
      "metadata": {
        "id": "DT-Ki21PsHC6"
      },
      "execution_count": null,
      "outputs": []
    },
    {
      "cell_type": "code",
      "source": [
        "# ZeroDevisionError  0으로 나누는 예외\n",
        "4 / 0"
      ],
      "metadata": {
        "colab": {
          "base_uri": "https://localhost:8080/",
          "height": 176
        },
        "id": "ERdLunuOxvAd",
        "outputId": "5a504877-93e7-436b-b14a-8ee61bbb7683"
      },
      "execution_count": null,
      "outputs": [
        {
          "output_type": "error",
          "ename": "ZeroDivisionError",
          "evalue": "ignored",
          "traceback": [
            "\u001b[0;31m---------------------------------------------------------------------------\u001b[0m",
            "\u001b[0;31mZeroDivisionError\u001b[0m                         Traceback (most recent call last)",
            "\u001b[0;32m<ipython-input-22-87ac9c94a8c2>\u001b[0m in \u001b[0;36m<module>\u001b[0;34m\u001b[0m\n\u001b[0;32m----> 1\u001b[0;31m \u001b[0;36m4\u001b[0m \u001b[0;34m/\u001b[0m \u001b[0;36m0\u001b[0m\u001b[0;34m\u001b[0m\u001b[0;34m\u001b[0m\u001b[0m\n\u001b[0m",
            "\u001b[0;31mZeroDivisionError\u001b[0m: division by zero"
          ]
        }
      ]
    },
    {
      "cell_type": "code",
      "source": [
        "# IndexError   없는 인덱스를 호출하였을때 발생 \n",
        "l1 = [1,2,3,4,5]\n",
        "a[5]"
      ],
      "metadata": {
        "colab": {
          "base_uri": "https://localhost:8080/",
          "height": 213
        },
        "id": "eV62tkcnx2Nc",
        "outputId": "4a0ebd1e-aec9-47ac-d9f5-5e149701481a"
      },
      "execution_count": null,
      "outputs": [
        {
          "output_type": "error",
          "ename": "TypeError",
          "evalue": "ignored",
          "traceback": [
            "\u001b[0;31m---------------------------------------------------------------------------\u001b[0m",
            "\u001b[0;31mTypeError\u001b[0m                                 Traceback (most recent call last)",
            "\u001b[0;32m<ipython-input-23-64daad1f8cd8>\u001b[0m in \u001b[0;36m<module>\u001b[0;34m\u001b[0m\n\u001b[1;32m      1\u001b[0m \u001b[0;31m# IndexError   없는 인덱스를 호출하였을때 발생\u001b[0m\u001b[0;34m\u001b[0m\u001b[0;34m\u001b[0m\u001b[0;34m\u001b[0m\u001b[0m\n\u001b[1;32m      2\u001b[0m \u001b[0ml1\u001b[0m \u001b[0;34m=\u001b[0m \u001b[0;34m[\u001b[0m\u001b[0;36m1\u001b[0m\u001b[0;34m,\u001b[0m\u001b[0;36m2\u001b[0m\u001b[0;34m,\u001b[0m\u001b[0;36m3\u001b[0m\u001b[0;34m,\u001b[0m\u001b[0;36m4\u001b[0m\u001b[0;34m,\u001b[0m\u001b[0;36m5\u001b[0m\u001b[0;34m]\u001b[0m\u001b[0;34m\u001b[0m\u001b[0;34m\u001b[0m\u001b[0m\n\u001b[0;32m----> 3\u001b[0;31m \u001b[0ma\u001b[0m\u001b[0;34m[\u001b[0m\u001b[0;36m5\u001b[0m\u001b[0;34m]\u001b[0m\u001b[0;34m\u001b[0m\u001b[0;34m\u001b[0m\u001b[0m\n\u001b[0m",
            "\u001b[0;31mTypeError\u001b[0m: 'Family' object is not subscriptable"
          ]
        }
      ]
    },
    {
      "cell_type": "code",
      "source": [
        "# 파이썬에서의 예외 처리 기본\n",
        "\n",
        "# try:\n",
        "#   수행구문\n",
        "# except:\n",
        "#   예외 발생 시 처리 구문\n",
        "\n",
        "try:\n",
        "  print(4 / 0)\n",
        "except:    # 모든 예외 처리\n",
        "  print('0으로는 나눌 수 없습니다. ')"
      ],
      "metadata": {
        "colab": {
          "base_uri": "https://localhost:8080/"
        },
        "id": "vrgx88mlyG2i",
        "outputId": "e0c09181-a6f4-4cb5-be75-0d1fae4cf501"
      },
      "execution_count": null,
      "outputs": [
        {
          "output_type": "stream",
          "name": "stdout",
          "text": [
            "0으로는 나눌 수 없습니다. \n"
          ]
        }
      ]
    },
    {
      "cell_type": "code",
      "source": [
        "try:\n",
        "  print(4 / 0)\n",
        "except ZeroDivisionError:  # 특정 에러 처리\n",
        "  print('0으로는 나눌 수 없습니다. ')"
      ],
      "metadata": {
        "colab": {
          "base_uri": "https://localhost:8080/"
        },
        "id": "FPxYHOzvyvHB",
        "outputId": "b36c3119-1281-407a-b00b-452eef59999c"
      },
      "execution_count": null,
      "outputs": [
        {
          "output_type": "stream",
          "name": "stdout",
          "text": [
            "0으로는 나눌 수 없습니다. \n"
          ]
        }
      ]
    },
    {
      "cell_type": "code",
      "source": [
        "try:\n",
        "  print(4 / 0)\n",
        "except ZeroDivisionError as e:  # 특정 에러 를 e변수에 담는다. \n",
        "  print(e)"
      ],
      "metadata": {
        "colab": {
          "base_uri": "https://localhost:8080/"
        },
        "id": "ebWXTbEszFhi",
        "outputId": "29b11e65-233a-4b98-fa14-f10bcc3d4822"
      },
      "execution_count": null,
      "outputs": [
        {
          "output_type": "stream",
          "name": "stdout",
          "text": [
            "division by zero\n"
          ]
        }
      ]
    },
    {
      "cell_type": "code",
      "source": [
        "# finally\n",
        "\n",
        "try:\n",
        "  print(4 / 2)\n",
        "except ZeroDivisionError as e:  # 특정 에러 를 e변수에 담는다. \n",
        "  print(e)\n",
        "finally:   # 예외 발생의 여부와는 관계없이 항상 마지막에 거친다.\n",
        "  print('프로그램을 종료합니다. ')"
      ],
      "metadata": {
        "colab": {
          "base_uri": "https://localhost:8080/"
        },
        "id": "EJKT3liGzSTB",
        "outputId": "ffb12d6e-7ea4-46fc-91c9-50b22fbae894"
      },
      "execution_count": null,
      "outputs": [
        {
          "output_type": "stream",
          "name": "stdout",
          "text": [
            "2.0\n",
            "프로그램을 종료합니다. \n"
          ]
        }
      ]
    },
    {
      "cell_type": "code",
      "source": [
        "# 여러 예외 처리\n",
        "\n",
        "try:\n",
        "  a = [1,2,3,4,5]\n",
        "  print(a[5])\n",
        "  4/0\n",
        "except ZeroDivisionError:\n",
        "  print('0으로는 나눌수 없습니다.')\n",
        "except IndexError:\n",
        "  print('인덱싱 할수 없습니다.')\n",
        "\n",
        "  # 인덱싱 오류가 먼저 발생했기 때문에 4/0 오류는 아예 실행도 되지 않는다. \n"
      ],
      "metadata": {
        "colab": {
          "base_uri": "https://localhost:8080/"
        },
        "id": "OGC9wRxvzuo-",
        "outputId": "f039856a-93cb-4486-8c28-7479f4901338"
      },
      "execution_count": null,
      "outputs": [
        {
          "output_type": "stream",
          "name": "stdout",
          "text": [
            "인덱싱 할수 없습니다.\n"
          ]
        }
      ]
    },
    {
      "cell_type": "code",
      "source": [
        "try:\n",
        "  a = [1,2,3,4,5]\n",
        "  print(a[5])\n",
        "  4/0\n",
        "except (ZeroDivisionError,IndexError) as e:\n",
        "  print(e)\n"
      ],
      "metadata": {
        "colab": {
          "base_uri": "https://localhost:8080/"
        },
        "id": "QfvQZCD-zyt1",
        "outputId": "f1a456e4-93b9-433f-e238-c963b8a451f2"
      },
      "execution_count": null,
      "outputs": [
        {
          "output_type": "stream",
          "name": "stdout",
          "text": [
            "list index out of range\n"
          ]
        }
      ]
    },
    {
      "cell_type": "code",
      "source": [
        "# try else\n",
        "\n",
        "try:\n",
        "  실행구문\n",
        "except:\n",
        "  예외 발생시 처리 구문\n",
        "else:\n",
        "  오류가 없을때만 실행되는 구문\n",
        "finally:\n",
        "  실행구문\n",
        "\n",
        "\n",
        "예외 발생시 try -> except ->Finally\n",
        "예외 미발생 try -?> else ->Finally\n",
        "\n"
      ],
      "metadata": {
        "id": "rEu3ZeMH06sx"
      },
      "execution_count": null,
      "outputs": []
    },
    {
      "cell_type": "code",
      "source": [
        "# 오류 발생시키기\n",
        "\n",
        "class Bird:\n",
        "  def fly(self):\n",
        "    raise NotImplementedError \n",
        "    \n",
        "    # 파이썬에 미리 정의된 에러로 꼭 작성해야 하는 부분이 구현되지 않았을 경우\n",
        "    # 일부러 예외 상황이 아닌 생태에서도 예외 강재 발생\n",
        "\n",
        "\n",
        "\n",
        "class Eagle(Bird):\n",
        "  pass\n",
        "\n",
        "\n",
        "eagle = Eagle()\n",
        "eagle.fly()\n",
        "\n",
        "\n"
      ],
      "metadata": {
        "colab": {
          "base_uri": "https://localhost:8080/",
          "height": 381
        },
        "id": "pIipdgMR1wf-",
        "outputId": "0c4a3e37-023c-4f4f-87a1-14d25f554bfb"
      },
      "execution_count": null,
      "outputs": [
        {
          "output_type": "error",
          "ename": "NotImplementedError",
          "evalue": "ignored",
          "traceback": [
            "\u001b[0;31m---------------------------------------------------------------------------\u001b[0m",
            "\u001b[0;31mNotImplementedError\u001b[0m                       Traceback (most recent call last)",
            "\u001b[0;32m<ipython-input-36-cf5afe71b9f8>\u001b[0m in \u001b[0;36m<module>\u001b[0;34m\u001b[0m\n\u001b[1;32m     11\u001b[0m \u001b[0;34m\u001b[0m\u001b[0m\n\u001b[1;32m     12\u001b[0m \u001b[0meagle\u001b[0m \u001b[0;34m=\u001b[0m \u001b[0mEagle\u001b[0m\u001b[0;34m(\u001b[0m\u001b[0;34m)\u001b[0m\u001b[0;34m\u001b[0m\u001b[0;34m\u001b[0m\u001b[0m\n\u001b[0;32m---> 13\u001b[0;31m \u001b[0meagle\u001b[0m\u001b[0;34m.\u001b[0m\u001b[0mfly\u001b[0m\u001b[0;34m(\u001b[0m\u001b[0;34m)\u001b[0m\u001b[0;34m\u001b[0m\u001b[0;34m\u001b[0m\u001b[0m\n\u001b[0m\u001b[1;32m     14\u001b[0m \u001b[0;34m\u001b[0m\u001b[0m\n\u001b[1;32m     15\u001b[0m \u001b[0;34m\u001b[0m\u001b[0m\n",
            "\u001b[0;32m<ipython-input-36-cf5afe71b9f8>\u001b[0m in \u001b[0;36mfly\u001b[0;34m(self)\u001b[0m\n\u001b[1;32m      3\u001b[0m \u001b[0;32mclass\u001b[0m \u001b[0mBird\u001b[0m\u001b[0;34m:\u001b[0m\u001b[0;34m\u001b[0m\u001b[0;34m\u001b[0m\u001b[0m\n\u001b[1;32m      4\u001b[0m   \u001b[0;32mdef\u001b[0m \u001b[0mfly\u001b[0m\u001b[0;34m(\u001b[0m\u001b[0mself\u001b[0m\u001b[0;34m)\u001b[0m\u001b[0;34m:\u001b[0m\u001b[0;34m\u001b[0m\u001b[0;34m\u001b[0m\u001b[0m\n\u001b[0;32m----> 5\u001b[0;31m     \u001b[0;32mraise\u001b[0m \u001b[0mNotImplementedError\u001b[0m\u001b[0;34m\u001b[0m\u001b[0;34m\u001b[0m\u001b[0m\n\u001b[0m\u001b[1;32m      6\u001b[0m \u001b[0;34m\u001b[0m\u001b[0m\n\u001b[1;32m      7\u001b[0m \u001b[0;34m\u001b[0m\u001b[0m\n",
            "\u001b[0;31mNotImplementedError\u001b[0m: "
          ]
        }
      ]
    },
    {
      "cell_type": "code",
      "source": [
        "# 예외 만들기\n",
        "\n",
        "class MyError(Exception):  # 파이썬 내장 클래스를 상속\n",
        "  pass\n",
        "\n",
        "def say_nick(nick):\n",
        "  if nick  ==  \"바보\":\n",
        "    raise MyError()\n",
        "  print(nick)\n",
        "\n",
        "print(say_nick(\"천사\"))\n",
        "print(say_nick(\"바보\"))"
      ],
      "metadata": {
        "colab": {
          "base_uri": "https://localhost:8080/",
          "height": 381
        },
        "id": "BAmPjxLZ3fEi",
        "outputId": "bc270d03-71f0-45fa-920b-a90b09132b7d"
      },
      "execution_count": null,
      "outputs": [
        {
          "output_type": "stream",
          "name": "stdout",
          "text": [
            "천사\n",
            "None\n"
          ]
        },
        {
          "output_type": "error",
          "ename": "MyError",
          "evalue": "ignored",
          "traceback": [
            "\u001b[0;31m---------------------------------------------------------------------------\u001b[0m",
            "\u001b[0;31mMyError\u001b[0m                                   Traceback (most recent call last)",
            "\u001b[0;32m<ipython-input-38-7b1a2b0980d0>\u001b[0m in \u001b[0;36m<module>\u001b[0;34m\u001b[0m\n\u001b[1;32m     10\u001b[0m \u001b[0;34m\u001b[0m\u001b[0m\n\u001b[1;32m     11\u001b[0m \u001b[0mprint\u001b[0m\u001b[0;34m(\u001b[0m\u001b[0msay_nick\u001b[0m\u001b[0;34m(\u001b[0m\u001b[0;34m\"천사\"\u001b[0m\u001b[0;34m)\u001b[0m\u001b[0;34m)\u001b[0m\u001b[0;34m\u001b[0m\u001b[0;34m\u001b[0m\u001b[0m\n\u001b[0;32m---> 12\u001b[0;31m \u001b[0mprint\u001b[0m\u001b[0;34m(\u001b[0m\u001b[0msay_nick\u001b[0m\u001b[0;34m(\u001b[0m\u001b[0;34m\"바보\"\u001b[0m\u001b[0;34m)\u001b[0m\u001b[0;34m)\u001b[0m\u001b[0;34m\u001b[0m\u001b[0;34m\u001b[0m\u001b[0m\n\u001b[0m",
            "\u001b[0;32m<ipython-input-38-7b1a2b0980d0>\u001b[0m in \u001b[0;36msay_nick\u001b[0;34m(nick)\u001b[0m\n\u001b[1;32m      6\u001b[0m \u001b[0;32mdef\u001b[0m \u001b[0msay_nick\u001b[0m\u001b[0;34m(\u001b[0m\u001b[0mnick\u001b[0m\u001b[0;34m)\u001b[0m\u001b[0;34m:\u001b[0m\u001b[0;34m\u001b[0m\u001b[0;34m\u001b[0m\u001b[0m\n\u001b[1;32m      7\u001b[0m   \u001b[0;32mif\u001b[0m \u001b[0mnick\u001b[0m  \u001b[0;34m==\u001b[0m  \u001b[0;34m\"바보\"\u001b[0m\u001b[0;34m:\u001b[0m\u001b[0;34m\u001b[0m\u001b[0;34m\u001b[0m\u001b[0m\n\u001b[0;32m----> 8\u001b[0;31m     \u001b[0;32mraise\u001b[0m \u001b[0mMyError\u001b[0m\u001b[0;34m(\u001b[0m\u001b[0;34m)\u001b[0m\u001b[0;34m\u001b[0m\u001b[0;34m\u001b[0m\u001b[0m\n\u001b[0m\u001b[1;32m      9\u001b[0m   \u001b[0mprint\u001b[0m\u001b[0;34m(\u001b[0m\u001b[0mnick\u001b[0m\u001b[0;34m)\u001b[0m\u001b[0;34m\u001b[0m\u001b[0;34m\u001b[0m\u001b[0m\n\u001b[1;32m     10\u001b[0m \u001b[0;34m\u001b[0m\u001b[0m\n",
            "\u001b[0;31mMyError\u001b[0m: "
          ]
        }
      ]
    },
    {
      "cell_type": "code",
      "source": [
        "#q1 사용자에게 숫자를 입력받아서 그 값을 num이라는 변수에 저장하는 함수를 만드세요\n",
        "#그리고 num을 사용하여 1부터 num에 저장된 숫자까지 세는 또 다른 함수를 정의하세요.\n",
        "#hint : 함수 3개가 필요 실행을 위한 함수\n",
        "\n",
        "def input_num():\n",
        "  num = int(input(\"숫자를 하나 입력하세요\"))\n",
        "  return num\n",
        "\n",
        "def count(num):\n",
        "  n=1\n",
        "  while n<=num: \n",
        "    print(n)\n",
        "    n += 1\n",
        "\n",
        "def main():\n",
        "  num = input_num()\n",
        "  count(num)\n",
        "\n",
        "main()"
      ],
      "metadata": {
        "colab": {
          "base_uri": "https://localhost:8080/"
        },
        "id": "MOQIuk2B7nJp",
        "outputId": "b5e08fa7-f934-4c47-fc96-11d7afd17313"
      },
      "execution_count": 17,
      "outputs": [
        {
          "output_type": "stream",
          "name": "stdout",
          "text": [
            "숫자를 하나 입력하세요9\n",
            "1\n",
            "2\n",
            "3\n",
            "4\n",
            "5\n",
            "6\n",
            "7\n",
            "8\n",
            "9\n"
          ]
        }
      ]
    },
    {
      "cell_type": "code",
      "source": [
        "# 낮은 숫자와 높은 숫자를 입력받아 \n",
        "# 두 값 사이의 임의의 숫자를 생성하여 comp_num 이르는 변수에 저장하는 pick_num 함수를 정의하세요.\n",
        "\n",
        "# '하나의 숫자를 생각하세요' 라는 메세지를 출력하고 사용자가 생각한 숫자를 입력받는\n",
        "# first_guess 함수를 정의하세요\n",
        "\n",
        "# 사용자가 입력한 숫자와 comp_num 이 같은지 확인하여 같다면 '정답' 이라는 메세지를 출력하고\n",
        "# 틀리면 그 입력한 값이 너무 낮은지 너무 높은지 알려고 다시 입력하도록 하여\n",
        "# 숫자를 맞출때까지 반복하는 함수를 만드세요\n",
        "\n",
        "import random\n",
        "\n",
        "def pick_num():\n",
        "  a = int(input('낮은 숫자를 입력하세요'))\n",
        "  b = int(input('높은 숫자를 입력하세요'))\n",
        "  \n",
        "  comp_num = random.randint(a+1,b-1)\n",
        "\n",
        "  return comp_num\n",
        "\n",
        "def first_guess():\n",
        "  guess = int(input('하나의 숫자를 생각하세요'))\n",
        "  return guess\n",
        "\n",
        "def check_answer(comp_num, guess):\n",
        "  try_again = True\n",
        "  while try_again == True:\n",
        "    if comp_num == guess:\n",
        "      print('정답')\n",
        "      try_again = False\n",
        "    elif comp_num > guess:\n",
        "      guess = int(input('숫자가 너무 낮습니다.다시 시도하세요'))\n",
        "    else:\n",
        "       guess = int(input('숫자가 너무 높습니다.다시 시도하세요'))\n",
        "\n",
        "\n",
        "def main():\n",
        "  comp_num = pick_num()\n",
        "  guess = first_guess()\n",
        "  check_answer(comp_num, guess)\n",
        "\n",
        "main()"
      ],
      "metadata": {
        "colab": {
          "base_uri": "https://localhost:8080/"
        },
        "id": "v66l79nI-Xi7",
        "outputId": "82ed8bc8-478c-4abb-fb79-3e903507734a"
      },
      "execution_count": 21,
      "outputs": [
        {
          "output_type": "stream",
          "name": "stdout",
          "text": [
            "낮은 숫자를 입력하세요1\n",
            "높은 숫자를 입력하세요3\n",
            "하나의 숫자를 생각하세요1\n",
            "숫자가 너무 낮습니다.다시 시도하세요3\n",
            "숫자가 너무 높습니다.다시 시도하세요2\n",
            "정답\n"
          ]
        }
      ]
    },
    {
      "cell_type": "code",
      "source": [
        "# 세 개의 숫자를 입력받아 가장 큰수를 출력하는 print_max 함수를 정의하라. \n",
        "# 단 if 문을 사용해서 수를 비교하라.\n",
        "\n",
        "# \n",
        "def print_max(a, b, c) :\n",
        "  max = a\n",
        "  if b > max : \n",
        "    max = b\n",
        "  if c > max :\n",
        "    max = c\n",
        "  return max\n",
        "\n",
        "\n",
        "\n",
        "print_max(4,6,2)"
      ],
      "metadata": {
        "colab": {
          "base_uri": "https://localhost:8080/"
        },
        "id": "kwdlectLF8Is",
        "outputId": "81f48801-01f8-4726-a9ef-57b9f8e98ad4"
      },
      "execution_count": 24,
      "outputs": [
        {
          "output_type": "execute_result",
          "data": {
            "text/plain": [
              "6"
            ]
          },
          "metadata": {},
          "execution_count": 24
        }
      ]
    },
    {
      "cell_type": "code",
      "source": [
        "# 입력된 문자열을 역순으로 출력하는 print_reverse 함수를 정의하라.\n",
        "\n",
        "def print_reverse(str):\n",
        "  print(str[::-1])\n",
        "\n",
        "print_reverse('hello')"
      ],
      "metadata": {
        "colab": {
          "base_uri": "https://localhost:8080/"
        },
        "id": "W1n1zzoSGCnr",
        "outputId": "aa1fa837-ee9c-4c4d-b86d-880558f7538c"
      },
      "execution_count": 25,
      "outputs": [
        {
          "output_type": "stream",
          "name": "stdout",
          "text": [
            "olleh\n"
          ]
        }
      ]
    }
  ]
}