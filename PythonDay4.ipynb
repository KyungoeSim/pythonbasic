{
  "nbformat": 4,
  "nbformat_minor": 0,
  "metadata": {
    "colab": {
      "provenance": [],
      "authorship_tag": "ABX9TyM/D8xY0EvgIHKJnA3HlLWt",
      "include_colab_link": true
    },
    "kernelspec": {
      "name": "python3",
      "display_name": "Python 3"
    },
    "language_info": {
      "name": "python"
    }
  },
  "cells": [
    {
      "cell_type": "markdown",
      "metadata": {
        "id": "view-in-github",
        "colab_type": "text"
      },
      "source": [
        "<a href=\"https://colab.research.google.com/github/KyungoeSim/pythonbasic/blob/main/PythonDay4.ipynb\" target=\"_parent\"><img src=\"https://colab.research.google.com/assets/colab-badge.svg\" alt=\"Open In Colab\"/></a>"
      ]
    },
    {
      "cell_type": "code",
      "execution_count": null,
      "metadata": {
        "colab": {
          "base_uri": "https://localhost:8080/"
        },
        "id": "REb-_yyGQg1J",
        "outputId": "42dc30bf-486c-420e-d3aa-c73884208831"
      },
      "outputs": [
        {
          "output_type": "stream",
          "name": "stdout",
          "text": [
            "시간을 입력하세요02:00\n",
            "정각입니다.\n"
          ]
        }
      ],
      "source": [
        "#if\n",
        "#사용자로부터 입력받은 시간이 정각인지를 판별하세요\n",
        "#02:00 정각입니다.\n",
        "#02:10 정각이 아닙니다.\n",
        "#11:23 정각이 아닙니다.\n",
        "\n",
        "time=input('시간을 입력하세요')\n",
        "\n",
        "if time[-2:] == \"00\":\n",
        "  print(\"정각입니다.\")\n",
        "else:\n",
        "  print(\"정각이 아닙니다.\")"
      ]
    },
    {
      "cell_type": "code",
      "source": [
        "#2\n",
        "list=[\"a\",\"b\",\"c\",\"d\"]\n",
        "\n",
        "invest=input(\"종목명\")\n",
        "if invest in list:\n",
        "  print(\"투자 경고 종목\")\n",
        "else:\n",
        "  print(\"투자 경고 종목 아닙니다.\")"
      ],
      "metadata": {
        "colab": {
          "base_uri": "https://localhost:8080/"
        },
        "id": "-HkyQjaQSslh",
        "outputId": "bc284836-8042-4ad0-9e4d-4df3f2b8e26a"
      },
      "execution_count": null,
      "outputs": [
        {
          "output_type": "stream",
          "name": "stdout",
          "text": [
            "종목명a\n",
            "투자 경고 종목\n"
          ]
        }
      ]
    },
    {
      "cell_type": "code",
      "source": [
        "#3\n",
        "#사용자로부터 문자 한개를 입력받고, 소문자일 경우,소문자로 변경해서 출력하자\n",
        "\n",
        "txt = input(\"한글자만 입력하세요\")\n",
        "\n",
        "if txt.islower():\n",
        "  print(txt.upper())\n",
        "else:\n",
        "  print(txt.lower())"
      ],
      "metadata": {
        "colab": {
          "base_uri": "https://localhost:8080/"
        },
        "id": "hBzebzPIUTZr",
        "outputId": "d9ef7493-316d-4fde-ce55-cbd2f9a9e2f5"
      },
      "execution_count": null,
      "outputs": [
        {
          "output_type": "stream",
          "name": "stdout",
          "text": [
            "한글자만 입력하세요a\n",
            "A\n"
          ]
        }
      ]
    },
    {
      "cell_type": "code",
      "source": [
        "num=int(input('점수를 입력해주세요.>'))\n",
        "\n",
        "\n",
        "if num >=90:\n",
        "  answer = 'A'\n",
        "elif num >=80:\n",
        "  answer = 'B'\n",
        "elif num >=70:\n",
        "  answer = 'C'\n",
        "elif num >=60:\n",
        "  answer = 'D'\n",
        "else:\n",
        "  answer = 'F'\n",
        "\n",
        "if num % 10 >= 0 and num % 10 <= 3:\n",
        "  answer2 = '-'\n",
        "elif num % 10 >= 4 and num % 10 <= 6:\n",
        "  answer2 = '0'\n",
        "else:\n",
        "  answer2 = '+'\n",
        "\n",
        "\n",
        "print(f'당신의 점수 {num}은 {answer}{answer2}학점 입니다.')"
      ],
      "metadata": {
        "colab": {
          "base_uri": "https://localhost:8080/"
        },
        "id": "VDn58lUUXOM6",
        "outputId": "cadc38a8-4bea-46b3-c16d-d03c45efa684"
      },
      "execution_count": null,
      "outputs": [
        {
          "output_type": "stream",
          "name": "stdout",
          "text": [
            "점수를 입력해주세요.>95\n",
            "당신의 점수 95은 A0학점 입니다.\n"
          ]
        }
      ]
    },
    {
      "cell_type": "code",
      "source": [
        "list=[3,-20,-3,44]\n",
        "\n",
        "for i in list:\n",
        "  if i < 0:\n",
        "    print(i)"
      ],
      "metadata": {
        "colab": {
          "base_uri": "https://localhost:8080/"
        },
        "id": "u7fXJBPLdhq6",
        "outputId": "793e67c0-3e50-4805-fa55-2f4ad4a5b2f4"
      },
      "execution_count": null,
      "outputs": [
        {
          "output_type": "stream",
          "name": "stdout",
          "text": [
            "-20\n",
            "-3\n"
          ]
        }
      ]
    },
    {
      "cell_type": "code",
      "source": [
        "#리스트에서 세 글자 이상의 문자를 화면에 출력하라\n",
        "\n",
        "list = [\"I\", \"study\", \"python\", \"language\", \"!\"]\n",
        "\n",
        "for i in list:\n",
        "  if len(i) >= 3:\n",
        "    print(i)\n"
      ],
      "metadata": {
        "colab": {
          "base_uri": "https://localhost:8080/"
        },
        "id": "IFbnS7bNfWRL",
        "outputId": "366c1f56-fefa-4378-80ec-bbac480e7b32"
      },
      "execution_count": null,
      "outputs": [
        {
          "output_type": "stream",
          "name": "stdout",
          "text": [
            "study\n",
            "python\n",
            "language\n"
          ]
        }
      ]
    },
    {
      "cell_type": "code",
      "source": [
        "#리스트에서 대문자만 화면에 출력하라.\n",
        "list = [\"A\", \"b\", \"c\", \"D\"]\n",
        "\n",
        "for i in list:\n",
        "  if i == i.upper():\n",
        "    print(i)"
      ],
      "metadata": {
        "colab": {
          "base_uri": "https://localhost:8080/"
        },
        "id": "yw5gKOMFf8Lu",
        "outputId": "efa30ce5-dc09-470c-c143-69f234b345bb"
      },
      "execution_count": null,
      "outputs": [
        {
          "output_type": "stream",
          "name": "stdout",
          "text": [
            "A\n",
            "D\n"
          ]
        }
      ]
    },
    {
      "cell_type": "code",
      "source": [
        "#이름의 첫 글자를 대문자로 변경해서 출력하라.\n",
        "list = ['dog', 'cat', 'parrot']\n",
        "for i in list:\n",
        "  c1 = i[0]\n",
        "  c2 =c1.upper()\n",
        "  print(c2+i[1:])\n"
      ],
      "metadata": {
        "colab": {
          "base_uri": "https://localhost:8080/"
        },
        "id": "wNDWp9pygjG7",
        "outputId": "97a4fcd1-da9b-4a2c-842a-64c1369f2447"
      },
      "execution_count": null,
      "outputs": [
        {
          "output_type": "stream",
          "name": "stdout",
          "text": [
            "Dog\n",
            "Cat\n",
            "Parrot\n"
          ]
        }
      ]
    },
    {
      "cell_type": "code",
      "source": [
        "#이름의 첫 글자를 대문자로 변경해서 출력하라.\n",
        "list = ['dog', 'cat', 'parrot']\n",
        "for i in list:\n",
        "  print(i[0].upper()+i[1:])"
      ],
      "metadata": {
        "colab": {
          "base_uri": "https://localhost:8080/"
        },
        "id": "u5UikAz0iTbM",
        "outputId": "2beebeb4-8391-451c-f2f2-1cae85cea59d"
      },
      "execution_count": null,
      "outputs": [
        {
          "output_type": "stream",
          "name": "stdout",
          "text": [
            "Dog\n",
            "Cat\n",
            "Parrot\n"
          ]
        }
      ]
    },
    {
      "cell_type": "code",
      "source": [
        "#파일 이름이 저장된 리스트에서 확장자를 제거하고 파일 이름만 화면에 출력하라. (힌트: split() 메서드)\n",
        "\n",
        "list = ['hello.py', 'ex01.py', 'intro.hwp']\n",
        "for i in list:\n",
        "  print(i.split('.')[0])\n",
        "\n"
      ],
      "metadata": {
        "colab": {
          "base_uri": "https://localhost:8080/"
        },
        "id": "ZUgI1PZviwWh",
        "outputId": "d1d6456f-a2eb-4a4d-95c0-4e33a7fc5210"
      },
      "execution_count": null,
      "outputs": [
        {
          "output_type": "stream",
          "name": "stdout",
          "text": [
            "hello\n",
            "ex01\n",
            "intro\n"
          ]
        }
      ]
    },
    {
      "cell_type": "code",
      "source": [
        "#반복문과 range 함수를 사용해서 my_list를 아래와 같이 출력하라.\n",
        "#라 다\n",
        "#다 나\n",
        "#나 가\n",
        "list = [\"가\", \"나\", \"다\", \"라\"]\n",
        "for i in range(len(list)-1, 0, -1):  \n",
        "\tprint(list[i], list[i-1])"
      ],
      "metadata": {
        "colab": {
          "base_uri": "https://localhost:8080/"
        },
        "id": "aUvFDfENoAwt",
        "outputId": "8ddcc6ff-f474-484f-9b58-d4c3e5075cdf"
      },
      "execution_count": 30,
      "outputs": [
        {
          "output_type": "stream",
          "name": "stdout",
          "text": [
            "라 다\n",
            "다 나\n",
            "나 가\n"
          ]
        }
      ]
    },
    {
      "cell_type": "code",
      "source": [
        "#ohlc 리스트에는 시가(open), 고가 (high), 저가 (low) , 종가(close)가 날짜별로 저장돼 있다. 화면에 종가데이터를 출력하라.\n",
        "ohlc = [[\"open\", \"high\", \"low\", \"close\"],\n",
        "        [100, 110, 70, 100],\n",
        "        [200, 210, 180, 190],\n",
        "        [300, 310, 300, 310]]\n",
        "\n",
        "for i in (range(1,len(ohlc))):\n",
        "  print(ohlc[i][3])\n"
      ],
      "metadata": {
        "colab": {
          "base_uri": "https://localhost:8080/"
        },
        "id": "eSicJSMcodKx",
        "outputId": "b8520cdd-1b2f-4d6d-f36e-f483fe98ef2f"
      },
      "execution_count": 31,
      "outputs": [
        {
          "output_type": "stream",
          "name": "stdout",
          "text": [
            "100\n",
            "190\n",
            "310\n"
          ]
        }
      ]
    },
    {
      "cell_type": "code",
      "source": [
        "total=0\n",
        "while total <= 50:\n",
        "  total += int(input('더할 수 입력:'))\n",
        "print(total)"
      ],
      "metadata": {
        "colab": {
          "base_uri": "https://localhost:8080/"
        },
        "id": "20cC4T0Ism6V",
        "outputId": "d4b9f4cd-1675-4caa-9272-fa677669be36"
      },
      "execution_count": 32,
      "outputs": [
        {
          "output_type": "stream",
          "name": "stdout",
          "text": [
            "더할 수 입력:50\n",
            "더할 수 입력:10\n",
            "60\n"
          ]
        }
      ]
    },
    {
      "cell_type": "code",
      "source": [
        "num = 0\n",
        "while num <= 5:\n",
        "  num = int(input(\"숫자입력:\"))\n",
        "print(f'당신이 입력한 숫자는 {num}입니다.')"
      ],
      "metadata": {
        "colab": {
          "base_uri": "https://localhost:8080/"
        },
        "id": "K1Y5R6xOvGKj",
        "outputId": "7f9d8415-ed9b-486c-9500-89f081183f4e"
      },
      "execution_count": 35,
      "outputs": [
        {
          "output_type": "stream",
          "name": "stdout",
          "text": [
            "숫자입력:5\n",
            "숫자입력:6\n",
            "당신이 입력한 숫자는 6입니다.\n"
          ]
        }
      ]
    },
    {
      "cell_type": "code",
      "source": [
        "a = 0\n",
        "while True:\n",
        "    a = int(input(\"10 ~ 20 숫자 입력 > \"))\n",
        "    if a > 20:\n",
        "        print(\"Too high\")\n",
        "    elif a < 10:\n",
        "        print(\"Too low\")\n",
        "    else:\n",
        "        print(\"Thank you\")\n",
        "        break"
      ],
      "metadata": {
        "id": "VuEpNMsXwky6"
      },
      "execution_count": null,
      "outputs": []
    },
    {
      "cell_type": "code",
      "source": [
        "import random\n",
        "\n",
        "compnum = random.randrange(1, 101)\n",
        "count = 0\n",
        "while True:\n",
        "    a = int(input(\"1 ~ 100 숫자 입력 > \"))\n",
        "    if a > compnum:\n",
        "        print(\"Too high\")\n",
        "        count += 1\n",
        "    elif a < compnum:\n",
        "        print(\"Too low\")\n",
        "        count += 1\n",
        "    else:\n",
        "        print(f\"Well done. you took {count} attempts\")\n",
        "        break\n"
      ],
      "metadata": {
        "colab": {
          "base_uri": "https://localhost:8080/"
        },
        "id": "BjVb8raGv4dO",
        "outputId": "fd230055-fccc-4d05-b018-a2e276718f58"
      },
      "execution_count": 36,
      "outputs": [
        {
          "output_type": "stream",
          "name": "stdout",
          "text": [
            "1 ~ 100 숫자 입력 > 50\n",
            "Too high\n",
            "1 ~ 100 숫자 입력 > 60\n",
            "Too high\n",
            "1 ~ 100 숫자 입력 > 20\n",
            "Too low\n",
            "1 ~ 100 숫자 입력 > 30\n",
            "Too low\n",
            "1 ~ 100 숫자 입력 > 40\n",
            "Too high\n",
            "1 ~ 100 숫자 입력 > 35\n",
            "Too low\n",
            "1 ~ 100 숫자 입력 > 37\n",
            "Too high\n",
            "1 ~ 100 숫자 입력 > 36\n",
            "Well done. you took 7 attempts\n"
          ]
        }
      ]
    },
    {
      "cell_type": "code",
      "source": [
        "num = 10\n",
        "\n",
        "print(f\"There are {num} green bottles hanging on the wall, {num} green bottles hanging on the wall, and if 1 green bottle sould accidentally fall.\")\n",
        "num -= 1\n",
        "while num >= 0:\n",
        "  bottle = int(input(\"How many green bottles will be hanging on the wall? > \"))\n",
        "  if num == bottle :\n",
        "    print(f\"There will be {num} green bottles hanging on the wall\")\n",
        "  else :\n",
        "    print(\"No, try again\")\n",
        "    continue;\n",
        "  print(f\"There are {num} green bottles hanging on the wall, {num} green bottles hanging on the wall, and if 1 green bottle sould accidentally fall.\")\n",
        "  num -= 1\n",
        "print(\"There are no more green bottles hanging on the wall\")"
      ],
      "metadata": {
        "colab": {
          "base_uri": "https://localhost:8080/",
          "height": 424
        },
        "id": "9PERazKCyidJ",
        "outputId": "8093e5eb-3288-4459-a6de-a255295073f9"
      },
      "execution_count": 38,
      "outputs": [
        {
          "output_type": "stream",
          "name": "stdout",
          "text": [
            "There are 10 green bottles hanging on the wall, 10 green bottles hanging on the wall, and if 1 green bottle sould accidentally fall.\n"
          ]
        },
        {
          "output_type": "error",
          "ename": "KeyboardInterrupt",
          "evalue": "ignored",
          "traceback": [
            "\u001b[0;31m---------------------------------------------------------------------------\u001b[0m",
            "\u001b[0;31mKeyboardInterrupt\u001b[0m                         Traceback (most recent call last)",
            "\u001b[0;32m<ipython-input-38-fb722404d027>\u001b[0m in \u001b[0;36m<module>\u001b[0;34m\u001b[0m\n\u001b[1;32m      4\u001b[0m \u001b[0mnum\u001b[0m \u001b[0;34m-=\u001b[0m \u001b[0;36m1\u001b[0m\u001b[0;34m\u001b[0m\u001b[0;34m\u001b[0m\u001b[0m\n\u001b[1;32m      5\u001b[0m \u001b[0;32mwhile\u001b[0m \u001b[0mnum\u001b[0m \u001b[0;34m>=\u001b[0m \u001b[0;36m0\u001b[0m\u001b[0;34m:\u001b[0m\u001b[0;34m\u001b[0m\u001b[0;34m\u001b[0m\u001b[0m\n\u001b[0;32m----> 6\u001b[0;31m   \u001b[0mbottle\u001b[0m \u001b[0;34m=\u001b[0m \u001b[0mint\u001b[0m\u001b[0;34m(\u001b[0m\u001b[0minput\u001b[0m\u001b[0;34m(\u001b[0m\u001b[0;34m\"How many green bottles will be hanging on the wall? > \"\u001b[0m\u001b[0;34m)\u001b[0m\u001b[0;34m)\u001b[0m\u001b[0;34m\u001b[0m\u001b[0;34m\u001b[0m\u001b[0m\n\u001b[0m\u001b[1;32m      7\u001b[0m   \u001b[0;32mif\u001b[0m \u001b[0mnum\u001b[0m \u001b[0;34m==\u001b[0m \u001b[0mbottle\u001b[0m \u001b[0;34m:\u001b[0m\u001b[0;34m\u001b[0m\u001b[0;34m\u001b[0m\u001b[0m\n\u001b[1;32m      8\u001b[0m     \u001b[0mprint\u001b[0m\u001b[0;34m(\u001b[0m\u001b[0;34mf\"There will be {num} green bottles hanging on the wall\"\u001b[0m\u001b[0;34m)\u001b[0m\u001b[0;34m\u001b[0m\u001b[0;34m\u001b[0m\u001b[0m\n",
            "\u001b[0;32m/usr/local/lib/python3.8/dist-packages/ipykernel/kernelbase.py\u001b[0m in \u001b[0;36mraw_input\u001b[0;34m(self, prompt)\u001b[0m\n\u001b[1;32m    858\u001b[0m                 \u001b[0;34m\"raw_input was called, but this frontend does not support input requests.\"\u001b[0m\u001b[0;34m\u001b[0m\u001b[0;34m\u001b[0m\u001b[0m\n\u001b[1;32m    859\u001b[0m             )\n\u001b[0;32m--> 860\u001b[0;31m         return self._input_request(str(prompt),\n\u001b[0m\u001b[1;32m    861\u001b[0m             \u001b[0mself\u001b[0m\u001b[0;34m.\u001b[0m\u001b[0m_parent_ident\u001b[0m\u001b[0;34m,\u001b[0m\u001b[0;34m\u001b[0m\u001b[0;34m\u001b[0m\u001b[0m\n\u001b[1;32m    862\u001b[0m             \u001b[0mself\u001b[0m\u001b[0;34m.\u001b[0m\u001b[0m_parent_header\u001b[0m\u001b[0;34m,\u001b[0m\u001b[0;34m\u001b[0m\u001b[0;34m\u001b[0m\u001b[0m\n",
            "\u001b[0;32m/usr/local/lib/python3.8/dist-packages/ipykernel/kernelbase.py\u001b[0m in \u001b[0;36m_input_request\u001b[0;34m(self, prompt, ident, parent, password)\u001b[0m\n\u001b[1;32m    902\u001b[0m             \u001b[0;32mexcept\u001b[0m \u001b[0mKeyboardInterrupt\u001b[0m\u001b[0;34m:\u001b[0m\u001b[0;34m\u001b[0m\u001b[0;34m\u001b[0m\u001b[0m\n\u001b[1;32m    903\u001b[0m                 \u001b[0;31m# re-raise KeyboardInterrupt, to truncate traceback\u001b[0m\u001b[0;34m\u001b[0m\u001b[0;34m\u001b[0m\u001b[0;34m\u001b[0m\u001b[0m\n\u001b[0;32m--> 904\u001b[0;31m                 \u001b[0;32mraise\u001b[0m \u001b[0mKeyboardInterrupt\u001b[0m\u001b[0;34m(\u001b[0m\u001b[0;34m\"Interrupted by user\"\u001b[0m\u001b[0;34m)\u001b[0m \u001b[0;32mfrom\u001b[0m \u001b[0;32mNone\u001b[0m\u001b[0;34m\u001b[0m\u001b[0;34m\u001b[0m\u001b[0m\n\u001b[0m\u001b[1;32m    905\u001b[0m             \u001b[0;32mexcept\u001b[0m \u001b[0mException\u001b[0m \u001b[0;32mas\u001b[0m \u001b[0me\u001b[0m\u001b[0;34m:\u001b[0m\u001b[0;34m\u001b[0m\u001b[0;34m\u001b[0m\u001b[0m\n\u001b[1;32m    906\u001b[0m                 \u001b[0mself\u001b[0m\u001b[0;34m.\u001b[0m\u001b[0mlog\u001b[0m\u001b[0;34m.\u001b[0m\u001b[0mwarning\u001b[0m\u001b[0;34m(\u001b[0m\u001b[0;34m\"Invalid Message:\"\u001b[0m\u001b[0;34m,\u001b[0m \u001b[0mexc_info\u001b[0m\u001b[0;34m=\u001b[0m\u001b[0;32mTrue\u001b[0m\u001b[0;34m)\u001b[0m\u001b[0;34m\u001b[0m\u001b[0;34m\u001b[0m\u001b[0m\n",
            "\u001b[0;31mKeyboardInterrupt\u001b[0m: Interrupted by user"
          ]
        }
      ]
    }
  ]
}