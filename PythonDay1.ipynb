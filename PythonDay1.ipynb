{
  "nbformat": 4,
  "nbformat_minor": 0,
  "metadata": {
    "colab": {
      "provenance": [],
      "toc_visible": true,
      "authorship_tag": "ABX9TyNpJxAzobAsnnAS6sNDZBPD",
      "include_colab_link": true
    },
    "kernelspec": {
      "name": "python3",
      "display_name": "Python 3"
    },
    "language_info": {
      "name": "python"
    }
  },
  "cells": [
    {
      "cell_type": "markdown",
      "metadata": {
        "id": "view-in-github",
        "colab_type": "text"
      },
      "source": [
        "<a href=\"https://colab.research.google.com/github/KyungoeSim/pythonbasic/blob/main/PythonDay1.ipynb\" target=\"_parent\"><img src=\"https://colab.research.google.com/assets/colab-badge.svg\" alt=\"Open In Colab\"/></a>"
      ]
    },
    {
      "cell_type": "code",
      "execution_count": 1,
      "metadata": {
        "colab": {
          "base_uri": "https://localhost:8080/"
        },
        "id": "Che0QjPPk50I",
        "outputId": "df11aaf0-8283-49ec-86dd-fee7012aebeb"
      },
      "outputs": [
        {
          "output_type": "stream",
          "name": "stdout",
          "text": [
            "Hello World 한글테스트\n"
          ]
        }
      ],
      "source": [
        "print(\"Hello World 한글테스트\")"
      ]
    },
    {
      "cell_type": "code",
      "source": [
        "#파이썬은 자바와는 달리 자료형 선언을 하지 않아도 알아서 데이터에 맞게 타입을 자동으로 지정한다.\n",
        "a=20\n",
        "b=\"Hello\"\n",
        "a=\"hi\"\n",
        "print(a)"
      ],
      "metadata": {
        "colab": {
          "base_uri": "https://localhost:8080/"
        },
        "id": "Jh2XyfLjlHyp",
        "outputId": "0c279e1d-22c8-41e3-9c38-1a4fc44265ca"
      },
      "execution_count": 5,
      "outputs": [
        {
          "output_type": "stream",
          "name": "stdout",
          "text": [
            "hi\n"
          ]
        }
      ]
    },
    {
      "cell_type": "code",
      "source": [
        "# 정수형 자료형\n",
        "a=100\n",
        "b=-123\n",
        "c=0\n"
      ],
      "metadata": {
        "id": "77PJNUCipcXH"
      },
      "execution_count": null,
      "outputs": []
    },
    {
      "cell_type": "code",
      "source": [
        "# 실수형 자료형\n",
        "a=3.14\n",
        "b=-5.16"
      ],
      "metadata": {
        "id": "6DoDa2aEq1GH"
      },
      "execution_count": null,
      "outputs": []
    },
    {
      "cell_type": "code",
      "source": [
        "#숫자형 자료형에서의 연산\n",
        "a=3\n",
        "b=4\n",
        "\n",
        "#코랩에서는 print 를 생략해도 알아서 넣어준다. 마지막에만 넣어준다.\n",
        "a+b\n",
        "a-b"
      ],
      "metadata": {
        "colab": {
          "base_uri": "https://localhost:8080/"
        },
        "id": "XoyKklLiq8Ra",
        "outputId": "fc2ef933-2f02-4793-f4e2-78667ce57ac6"
      },
      "execution_count": 6,
      "outputs": [
        {
          "output_type": "execute_result",
          "data": {
            "text/plain": [
              "-1"
            ]
          },
          "metadata": {},
          "execution_count": 6
        }
      ]
    },
    {
      "cell_type": "code",
      "source": [
        "a+b\n",
        "a-b\n",
        "\n",
        "print(a+b)\n",
        "print(a-b)\n",
        "\n",
        "#print() 구문을 생략하면 마지막 구문만 출력해주기 때문에 전부 출력하고 싶으면\n",
        "#각각 print() 구문을 다 적어야한다. 이것은 파이썬의 특징이 아닌 코랩의 특징이다."
      ],
      "metadata": {
        "colab": {
          "base_uri": "https://localhost:8080/"
        },
        "id": "BQSHa_dsrWk8",
        "outputId": "ce40d8d2-1e17-481a-b3eb-5f3a249957c2"
      },
      "execution_count": 7,
      "outputs": [
        {
          "output_type": "stream",
          "name": "stdout",
          "text": [
            "7\n",
            "-1\n"
          ]
        }
      ]
    },
    {
      "cell_type": "code",
      "source": [
        "#나머지 연산자 - 홀수 짝수 배수 확인\n",
        "5/2 #일반적인 나누기"
      ],
      "metadata": {
        "colab": {
          "base_uri": "https://localhost:8080/"
        },
        "id": "iJQkaWYyr_RF",
        "outputId": "64e2515c-cbf1-44f1-dc27-8db553db1431"
      },
      "execution_count": 8,
      "outputs": [
        {
          "output_type": "execute_result",
          "data": {
            "text/plain": [
              "2.5"
            ]
          },
          "metadata": {},
          "execution_count": 8
        }
      ]
    },
    {
      "cell_type": "code",
      "source": [
        "5%2 \n",
        "#나눈 결과의 몫은 버리고 나머지만 취한다.\n",
        "#따라서 어떤수를 2로 나눈 나머지가 0이 나오면 짝수 1이 나오면 홀수"
      ],
      "metadata": {
        "colab": {
          "base_uri": "https://localhost:8080/"
        },
        "id": "_1M6cTj0sIuK",
        "outputId": "78ef26d8-62ff-4a5f-a6c9-d05ffe117856"
      },
      "execution_count": 9,
      "outputs": [
        {
          "output_type": "execute_result",
          "data": {
            "text/plain": [
              "1"
            ]
          },
          "metadata": {},
          "execution_count": 9
        }
      ]
    },
    {
      "cell_type": "code",
      "source": [
        "8%2\n",
        "#어떤수를 어떤수로 나눈 나머지가 0이면 배수이다."
      ],
      "metadata": {
        "colab": {
          "base_uri": "https://localhost:8080/"
        },
        "id": "SCmNjgOgsgLV",
        "outputId": "c9226f39-aaac-4493-c4b6-ad02bce6ef88"
      },
      "execution_count": 10,
      "outputs": [
        {
          "output_type": "execute_result",
          "data": {
            "text/plain": [
              "0"
            ]
          },
          "metadata": {},
          "execution_count": 10
        }
      ]
    },
    {
      "cell_type": "code",
      "source": [
        "#문자열 자료형-파이썬에서는 \"\"와 '가 완전히 동일하게 사용한다.\n",
        "# 1. 큰 따옴표\n",
        "\"Hello World\"\n",
        "# 2. 작은 따옴표\n",
        "'Hello World'\n",
        "# 3. 3중 따옴표 Doc String\n",
        "\"\"\"Hello World\"\"\"\n",
        "'''Hello World'''\n"
      ],
      "metadata": {
        "colab": {
          "base_uri": "https://localhost:8080/",
          "height": 36
        },
        "id": "13JBTSZ2vy-X",
        "outputId": "0c86646a-98d3-475b-d8ac-1ef1070be9b0"
      },
      "execution_count": 11,
      "outputs": [
        {
          "output_type": "execute_result",
          "data": {
            "text/plain": [
              "'Hello World'"
            ],
            "application/vnd.google.colaboratory.intrinsic+json": {
              "type": "string"
            }
          },
          "metadata": {},
          "execution_count": 11
        }
      ]
    },
    {
      "cell_type": "code",
      "source": [
        "#파이썬에서는 큰따옴표와 작은 따옴표에 전혀 차이가 없지만\n",
        "#아래의 용도로 분리하여 사용된다.\n",
        "\n",
        "\"python's\" #작은 따옴표 하나를 출력하기 위한 용도\n",
        "'say\"Hello\"' #작은 따옴표 안에서 큰 따옴표를 출력하기 위한 용도"
      ],
      "metadata": {
        "colab": {
          "base_uri": "https://localhost:8080/",
          "height": 36
        },
        "id": "Lj8XgYRWwhEn",
        "outputId": "046126a3-520b-4a03-eac5-3fa6582bdd05"
      },
      "execution_count": 12,
      "outputs": [
        {
          "output_type": "execute_result",
          "data": {
            "text/plain": [
              "'say\"Hello\"'"
            ],
            "application/vnd.google.colaboratory.intrinsic+json": {
              "type": "string"
            }
          },
          "metadata": {},
          "execution_count": 12
        }
      ]
    },
    {
      "cell_type": "code",
      "source": [
        "# \\n 줄바꿈\n",
        "a=\"i love you\\n you love me\"\n",
        "print(a)\n",
        "\n",
        "#\"\"\" 3개 쓰면 줄바꿈까지 적용된다.\n",
        "b=\"\"\"i love you\n",
        "you love me\"\"\"\n",
        "print(b)"
      ],
      "metadata": {
        "colab": {
          "base_uri": "https://localhost:8080/"
        },
        "id": "cjYZVSTIxeYj",
        "outputId": "dfc0229b-ec47-4632-c717-4a9026aee5b4"
      },
      "execution_count": 17,
      "outputs": [
        {
          "output_type": "stream",
          "name": "stdout",
          "text": [
            "i love you\n",
            " you love me\n",
            "i love you\n",
            "you love me\n"
          ]
        }
      ]
    },
    {
      "cell_type": "code",
      "source": [
        "#문자열 연산\n",
        "\n",
        "#파이썬에서는 문자열도 연산이 가능하다. 특히 다른언어에서는 발견하기 어려운 파이썬만의 독특한 특징이다.\n",
        "#이런 점들이 바로 파이써는 우리의 생각을 그대로 반영할 수 있다는 파이썬만의 장점이다.\n",
        "\n",
        "a=\"i \"\n",
        "b=\"love \"\n",
        "c=\"you\"\n",
        "\n",
        "print(a+b+c)\n",
        "\n",
        "d=\"love \"\n",
        "print(d*3)\n",
        "\n",
        "e=\"=\"\n",
        "print(e*30)"
      ],
      "metadata": {
        "colab": {
          "base_uri": "https://localhost:8080/"
        },
        "id": "ciS5IqRYyqbW",
        "outputId": "f92b7e3e-cba3-488b-f762-4cf88a77c90b"
      },
      "execution_count": 21,
      "outputs": [
        {
          "output_type": "stream",
          "name": "stdout",
          "text": [
            "i love you\n",
            "love love love \n",
            "==============================\n"
          ]
        }
      ]
    },
    {
      "cell_type": "code",
      "source": [
        "#문자열 자료형에서 많이 사용되는 함수들\n",
        "\n",
        "# len()\n",
        "print(len(\"l love you\")) #빈칸도 글자 취급한다.\n"
      ],
      "metadata": {
        "colab": {
          "base_uri": "https://localhost:8080/"
        },
        "id": "g9m3MifP0UJ7",
        "outputId": "3fa675a5-726e-42c4-f081-d564cd5d2224"
      },
      "execution_count": 22,
      "outputs": [
        {
          "output_type": "stream",
          "name": "stdout",
          "text": [
            "10\n"
          ]
        }
      ]
    },
    {
      "cell_type": "code",
      "source": [
        "#인덱싱과 슬라이싱 indexing & slicing\n",
        "#참고로 인덱싱과 슬라이싱은 리스트와 튜플에서도 완전히 동일하게 사용된다.\n",
        "\n",
        "#인덱싱 - 한 개의 글자 추출\n",
        "a= 'i love you'\n",
        "print(a[0])\n",
        "print(a[9])\n",
        "print(a[-1]) #마지막 글자 추출 -1을 사용한다.\n",
        "print(a[-3])\n",
        "\n",
        "#슬라이싱 - 여러개의 글자 추출\n",
        "a='i love you'\n",
        "print(a[2] + a[3] + a[4] + a[5])\n",
        "print(a[2:6]) #끝자리를 나타내는 수는 미만을 의미한다.\n",
        "print(a[7:]) #끝자리를 생략하면 끝까지 출력한다.\n",
        "print(a[:2]) #시작 자리를 생략하면 처음 즉 0부터 시작한다.\n",
        "print(a[:]) #모든 자리 생략하면 처음부터 끝까지 출력한다.\n",
        "print(a[7:-1]) #슬라이싱에서도 -표기를 사용한다.\n"
      ],
      "metadata": {
        "colab": {
          "base_uri": "https://localhost:8080/"
        },
        "id": "I-6BOLnT0sIP",
        "outputId": "795a7ba5-ef87-448c-8325-3bd89436893d"
      },
      "execution_count": 25,
      "outputs": [
        {
          "output_type": "stream",
          "name": "stdout",
          "text": [
            "i\n",
            "u\n",
            "u\n",
            "y\n",
            "love\n",
            "love\n",
            "you\n",
            "i \n",
            "i love you\n",
            "yo\n"
          ]
        }
      ]
    },
    {
      "cell_type": "code",
      "source": [
        "#파이썬에서 출력 방법 총 4가지\n",
        "\n",
        "# 1. 문자열 포멧팅(중요도 하)\n",
        "\n",
        "print(\"I %s you\" % \"love\")\n",
        "print(\"I ate %d apples\" % 5)\n",
        "print(\"I %s you, I ate %s apples\" % (\"love\", 5))\n",
        "\n",
        "# 2. format() 포맷함수 (중요도 하)\n",
        "print(\"I {} you\".format(\"love\"))\n",
        "print(\"I ate {} apples\".format(5))\n",
        "print(\"I {} you, I ate {} apples\".format(\"love\", 5))\n"
      ],
      "metadata": {
        "colab": {
          "base_uri": "https://localhost:8080/"
        },
        "id": "-HtPUqoA701p",
        "outputId": "4732494d-684f-47dc-e1f5-13d940cea5eb"
      },
      "execution_count": 27,
      "outputs": [
        {
          "output_type": "stream",
          "name": "stdout",
          "text": [
            "I love you\n",
            "I ate 5 apples\n",
            "I love you, I ate 5 apples\n",
            "I love you\n",
            "I ate 5 apples\n",
            "I love you, I ate 5 apples\n"
          ]
        }
      ]
    },
    {
      "cell_type": "code",
      "source": [
        "# 3. f스트링(중요도 상)\n",
        "\n",
        "a=\"love\"\n",
        "b=5\n",
        "\n",
        "print(f\"I {a} you\")\n",
        "print(f\"I ate {b} apples\")\n",
        "print(f\"I {a} you, I ate {b} apples\")\n",
        "\n",
        "# 4. 연산자 사용\n",
        "a=\"love\"\n",
        "b=5\n",
        "\n",
        "print(\"I\" +a+ \"you\")\n",
        "print(\"I ate\" ,b, \"apples\")\n",
        "print(\"I\" +a+ \"you, I ate\" ,b, \"apples\")\n",
        "\n",
        "print(\"I\" ,a, \"you\")\n",
        "print(\"I ate\" ,b, \"apples\")\n",
        "print(\"I\" ,a, \"you, I ate\" ,b, \"apples\")\n"
      ],
      "metadata": {
        "colab": {
          "base_uri": "https://localhost:8080/"
        },
        "id": "ZU9cohS191TN",
        "outputId": "34967bc1-3509-4e9c-e9c3-b869c111b0fe"
      },
      "execution_count": 31,
      "outputs": [
        {
          "output_type": "stream",
          "name": "stdout",
          "text": [
            "I love you\n",
            "I ate 5 apples\n",
            "I love you, I ate 5 apples\n",
            "Iloveyou\n",
            "I ate 5 apples\n",
            "Iloveyou, I ate 5 apples\n",
            "I love you\n",
            "I ate 5 apples\n",
            "I love you, I ate 5 apples\n"
          ]
        }
      ]
    },
    {
      "cell_type": "code",
      "source": [
        "#문자열 관련 자주 사용하는 함수 정리\n",
        "\n",
        "#len 문자열의 갯수 확인\n",
        "\n",
        "print(len(\"l love you\")) #빈칸도 글자로 센다.\n"
      ],
      "metadata": {
        "id": "mkFe2CBfAd7y"
      },
      "execution_count": null,
      "outputs": []
    }
  ]
}