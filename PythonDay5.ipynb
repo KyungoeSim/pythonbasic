{
  "nbformat": 4,
  "nbformat_minor": 0,
  "metadata": {
    "colab": {
      "provenance": [],
      "authorship_tag": "ABX9TyMtoWYuJFE4U1OF8HoT4BX2",
      "include_colab_link": true
    },
    "kernelspec": {
      "name": "python3",
      "display_name": "Python 3"
    },
    "language_info": {
      "name": "python"
    }
  },
  "cells": [
    {
      "cell_type": "markdown",
      "metadata": {
        "id": "view-in-github",
        "colab_type": "text"
      },
      "source": [
        "<a href=\"https://colab.research.google.com/github/KyungoeSim/pythonbasic/blob/main/PythonDay5.ipynb\" target=\"_parent\"><img src=\"https://colab.research.google.com/assets/colab-badge.svg\" alt=\"Open In Colab\"/></a>"
      ]
    },
    {
      "cell_type": "code",
      "execution_count": null,
      "metadata": {
        "id": "mhbIS3V8cgYa"
      },
      "outputs": [],
      "source": [
        "# Function\n",
        "\n",
        "#자바에서는 오히려 함수가 존재하지 않는다. 대신에 매서드를 사용한다.\n",
        "#사실 거의 같지만 메서드는 클래스 내부에서 정의된다.\n",
        "#자바는 클래스 밖이라는 개념이 존재하지 않기 때문에 함수가 없다.\n",
        "\n",
        "#파이썬은 클래스 밖의 개념과 클래스 안의 개념이 다 존재하기 때문에\n",
        "#함수도 매서드도 모두 사용된다.\n",
        "\n",
        "#함수란?\n",
        "\n",
        "#믹서기에 딸기를 넣으면 딸기 주스 바나나를 넣으면 바나나 주스가 만들어진다.\n",
        "#함수도 이와같이 입력 값에 따라 다른 실행 결과를 내보낸다. \n",
        "#특히 파이썬도 자바와 같이 (매서드) 함수를 중요하게 많이 사용된다. \n",
        "\n",
        "#왜?\n",
        "#프로그래밍을 하다보면 같은 내용을 반복해서 실행 시켜야 할 부분이 상당히 많아진다.\n",
        "#그때마다 새롭게 만들어서 사용하는 것이 아니라 한번 범용적으로 만들어서 \n",
        "#필요할때마다 호출하여 사용하면 프로그램의 흐름도 잘 파악할 수 있고 오류가 어디서 발생하는 지도 쉽게 찾을 수 있다.\n"
      ]
    },
    {
      "cell_type": "code",
      "source": [
        "#def 함수명 ():\n",
        "#  수행구문1\n",
        "#  수행구문2\n",
        "\n",
        "#함수 정의\n",
        "def add(a,b):\n",
        "  return a+b\n",
        "\n",
        "#함수 호출\n",
        "print(add(1,2))\n",
        "print(add(3,5))"
      ],
      "metadata": {
        "colab": {
          "base_uri": "https://localhost:8080/"
        },
        "id": "X7nXVcp9eGEx",
        "outputId": "8141e660-5d01-4473-e2e8-f166184c6fc8"
      },
      "execution_count": 3,
      "outputs": [
        {
          "output_type": "stream",
          "name": "stdout",
          "text": [
            "3\n",
            "8\n"
          ]
        }
      ]
    },
    {
      "cell_type": "code",
      "source": [
        "#매개변수와 인수 (객체와 인스턴스 / 매서드와 함수 , 파라미터 와 옵션)\n",
        "#매개변수와 인수는 혼용하여 사용되는 조금 헷갈릴 수 있는 용어이다. \n",
        "\n",
        "#매개변수는 함수에 입력으로 전달 된 값을 받는 변수를 의미하고\n",
        "#인수는 함수를 호출할 때 전달하는 입력값을 의미한다.\n",
        "\n",
        "def add(a,b): #a,b 매개변수\n",
        "  return a+b\n",
        "\n",
        "print(add(1,2)) #1,2인수 (진짜 값)\n",
        "print(add(3,5)) #3,5인수"
      ],
      "metadata": {
        "id": "oog7yPzDgxFX"
      },
      "execution_count": null,
      "outputs": []
    },
    {
      "cell_type": "code",
      "source": [
        "#함수의 4가지 형태\n",
        "\n",
        "#1. 입력값과 output값이 모두 존재하는 함수(*****)\n",
        "#2. 입력값이 없고 output값이값만 존재하는 함수\n",
        "#3. 입력값은 있고 output값이값은 존재하지 않는 함수\n",
        "#4. 입력값도 없고 output값이값도 없는 함수"
      ],
      "metadata": {
        "id": "HnKZR9zDhZx-"
      },
      "execution_count": null,
      "outputs": []
    },
    {
      "cell_type": "code",
      "source": [
        "#1. 입력값과 output값이값이 모두 존재하는 함수(*****)\n",
        "#함수 정의\n",
        "def add(a,b): #입력값이 있고\n",
        "  return a+b  #output값도 있다.\n",
        "\n",
        "#함수 호출\n",
        "print(add(1,2)) \n",
        "print(add(3,5))\n",
        "\n",
        "#2. 입력값이 없고 output값만 존재하는 함수\n",
        "def say():\n",
        "  return 'Hello World'\n",
        "print(say())"
      ],
      "metadata": {
        "colab": {
          "base_uri": "https://localhost:8080/"
        },
        "id": "o7HbHn6uh9fU",
        "outputId": "d0de95d3-8187-42d9-9532-e8a8d2c23ab9"
      },
      "execution_count": 8,
      "outputs": [
        {
          "output_type": "stream",
          "name": "stdout",
          "text": [
            "3\n",
            "8\n",
            "Hello World\n"
          ]
        }
      ]
    },
    {
      "cell_type": "code",
      "source": [
        "#3. input 값은 있고 outpuy=t갑\n",
        "\n",
        "def yesinput(name):\n",
        "  print(name,'님 어서오세요')\n",
        "\n",
        "yesinput('홍길동')\n",
        "\n",
        "\n",
        "#4. 입력값도 없고 output값이값도 없는 함수\n",
        "\n",
        "def noinout():\n",
        "  print('환영합니다')\n",
        "noinout()"
      ],
      "metadata": {
        "colab": {
          "base_uri": "https://localhost:8080/"
        },
        "id": "HCdeV9SyjNvY",
        "outputId": "5b17b4b8-8a9c-4059-b3e2-b61379f22b3d"
      },
      "execution_count": 9,
      "outputs": [
        {
          "output_type": "stream",
          "name": "stdout",
          "text": [
            "홍길동 님 어서오세요\n",
            "환영합니다\n"
          ]
        }
      ]
    },
    {
      "cell_type": "code",
      "source": [
        "#매개변수의 수를 알수없을 때, 즉 몇개의 매개변수가 들어울지 모를 때\n",
        "\n",
        "def add(*args): #가변매개변수 사용방법\n",
        "  result = 0\n",
        "  for i in args:\n",
        "    result = result + i\n",
        "  print(result)\n",
        "\n",
        "add(1,2)\n",
        "add(1,2,3)\n",
        "add(1,2,3,4)"
      ],
      "metadata": {
        "colab": {
          "base_uri": "https://localhost:8080/"
        },
        "id": "A7WAtn7LiLpd",
        "outputId": "22c80dc8-fd73-4f50-a95d-26e44f6eeb26"
      },
      "execution_count": 12,
      "outputs": [
        {
          "output_type": "stream",
          "name": "stdout",
          "text": [
            "3\n",
            "6\n",
            "10\n"
          ]
        }
      ]
    },
    {
      "cell_type": "code",
      "source": [
        "#함수의 리턴값은 언제나 하나이다.\n",
        "\n",
        "def addmul(a,b):\n",
        "  return a+b\n",
        "  return a*b\n",
        "\n",
        "print(addmul(2,3))\n",
        "\n",
        "def addmul2(a,b):\n",
        "  return a+b, a*b\n",
        "\n",
        "print(addmul2(2,3))\n",
        "\n",
        "#결과 값으로 튜플(5,6) 출력되었다. 2개가 아닌 튜플 1개로 출력된 것이다.\n"
      ],
      "metadata": {
        "colab": {
          "base_uri": "https://localhost:8080/"
        },
        "id": "Cu7PPpKUoSQB",
        "outputId": "a5c122ea-5887-4f33-e29c-77d8e8c3ec3b"
      },
      "execution_count": 16,
      "outputs": [
        {
          "output_type": "stream",
          "name": "stdout",
          "text": [
            "5\n",
            "(5, 6)\n"
          ]
        }
      ]
    },
    {
      "cell_type": "code",
      "source": [
        "#매개변수에 미리 초기값 설정하기\n",
        "\n",
        "def aboutme(name, age, gender=True):\n",
        "  print(f'나의 이름은 {name} 입니다.')\n",
        "  print(f'나의 나이는 {age}살 입니다.')\n",
        "  if gender:\n",
        "    print(f'나의 성병은 남성입니다.')\n",
        "  else:\n",
        "    print(f'나의 성별은 여성입니다.')\n",
        "\n",
        "aboutme(\"송중기\", 35)"
      ],
      "metadata": {
        "colab": {
          "base_uri": "https://localhost:8080/"
        },
        "id": "NqIoOUBEpxe_",
        "outputId": "dca58a4c-63a5-43c2-db92-be3fadb20aa4"
      },
      "execution_count": 27,
      "outputs": [
        {
          "output_type": "stream",
          "name": "stdout",
          "text": [
            "나의 이름은 송중기 입니다.\n",
            "나의 나이는 35살 입니다.\n",
            "나의 성병은 남성입니다.\n"
          ]
        }
      ]
    },
    {
      "cell_type": "code",
      "source": [
        "#함수 안에서의 변수 효력 범위 (지역변수/전역변수)\n",
        "\n",
        "a = 1\n",
        "\n",
        "def vartest(a):\n",
        "  a += 1  #2?\n",
        "\n",
        "vartest(a)\n",
        "print(a)\n",
        "\n",
        "#함수안에서 사용하는 매개변수 a는 함수 밖의 변수 이름 a과는 전혀 관련이 없다.\n",
        "\n",
        "def vartest(a):\n",
        "  a += 1  #4?\n",
        "\n",
        "vartest(3)\n",
        "print(a)\n",
        "\n",
        "#위의 셀에서 a를 정의 한 1이 출력되지만 만약 위 셀이 없다면 a를 전혀 알수없기 때문에 예외발생하게 된다. "
      ],
      "metadata": {
        "colab": {
          "base_uri": "https://localhost:8080/"
        },
        "id": "EqvEVRfurHvi",
        "outputId": "a03df806-18e8-47ff-f6d2-1d5142be66b4"
      },
      "execution_count": 31,
      "outputs": [
        {
          "output_type": "stream",
          "name": "stdout",
          "text": [
            "1\n",
            "1\n"
          ]
        }
      ]
    },
    {
      "cell_type": "code",
      "source": [
        "def vartest(a):\n",
        "  a += 1  \n",
        "  return a #값을 가지고 나오는것\n",
        "\n",
        "print(vartest(3))"
      ],
      "metadata": {
        "colab": {
          "base_uri": "https://localhost:8080/"
        },
        "id": "K5jSy7Las03K",
        "outputId": "23f209fb-c440-499c-9bbd-cf7640916fac"
      },
      "execution_count": 33,
      "outputs": [
        {
          "output_type": "stream",
          "name": "stdout",
          "text": [
            "4\n"
          ]
        }
      ]
    },
    {
      "cell_type": "code",
      "source": [],
      "metadata": {
        "id": "9c7xOq8otX3V"
      },
      "execution_count": null,
      "outputs": []
    },
    {
      "cell_type": "code",
      "source": [
        "# Class / Object\n",
        "\n",
        "#Object Oriented Programming 객체 지향 프로그래밍(객체/상속)\n",
        "\n",
        "#객체 지향 프로그래밍이 필수는 아니다. \n",
        "\n",
        "#클래스는 붕어빵 기계 객체는 붕어빵\n",
        "\n",
        "#인스턴스와 객체의 차이\n",
        "#클래스로 만든 객체를 인스턴스라고도 부른다\n",
        "\n",
        "#a는 쿠키 클래스의 인스턴스이다.\n",
        "#a는 객체이다.\n",
        "\n",
        "#인스턴스는 클래스와의 관꼐를 설명할때 사용되고\n",
        "#객체는 관계가 아닌 그 자체를 설명할때 사용된다.\n",
        "\n",
        "\n"
      ],
      "metadata": {
        "id": "iOLx96Hztdm1"
      },
      "execution_count": null,
      "outputs": []
    },
    {
      "cell_type": "code",
      "source": [
        "#클래스 정의\n",
        "\n",
        "class Cal:\n",
        "  pass\n",
        "\n",
        "#클래스로 인스턴스 생성\n",
        "a=Cal()\n"
      ],
      "metadata": {
        "id": "ZQI-o07VxeOJ"
      },
      "execution_count": null,
      "outputs": []
    },
    {
      "cell_type": "code",
      "source": [
        "result = 0\n",
        "result2 = 0\n",
        "\n",
        "def add(num):\n",
        "  global result\n",
        "  result += num\n",
        "  return result\n",
        "\n",
        "def add2(num):\n",
        "  global result2\n",
        "  result2 += num\n",
        "  return result2\n",
        "\n",
        "print(add(3))\n",
        "print(add(4))\n",
        "print(add(1))\n",
        "print()\n",
        "print(add2(2))\n",
        "print(add2(1))\n",
        "print(add2(3))\n",
        "\n",
        "#똑같은 계산을 하는 계산기들이 각각 다른 결과 값을 유지하고 있다.\n",
        "#계산기 1은 계산기 2에 전혀 영향을 주지 않는다.\n",
        "\n",
        "#하지만 문제는 계산기가 더 필요해진다면 또 같은 계산기들을 만들어야한다.\n",
        "\n",
        "#따라서 클래스를 사용하여 계산기를 만들어보자\n"
      ],
      "metadata": {
        "colab": {
          "base_uri": "https://localhost:8080/"
        },
        "id": "yx3oq6Uf1HpP",
        "outputId": "3013922a-de0e-4c29-e52a-59311b4dfc2d"
      },
      "execution_count": 41,
      "outputs": [
        {
          "output_type": "stream",
          "name": "stdout",
          "text": [
            "3\n",
            "7\n",
            "8\n",
            "\n",
            "2\n",
            "3\n",
            "6\n"
          ]
        }
      ]
    },
    {
      "cell_type": "code",
      "source": [
        "class Cal:\n",
        "  def __init__(self): #파이썬에서의 생성자\n",
        "     self.result = 0\n",
        "\n",
        "  def add(self, num):\n",
        "     self.result += num\n",
        "     return self.result\n",
        "\n",
        "cal1= Cal()\n",
        "cal2= Cal()\n",
        "cal3= Cal()\n",
        "\n",
        "print(cal1, add(2))\n",
        "print(cal1, add(1))\n",
        "print(cal1, add(3))\n",
        "print()\n",
        "print(cal2, add(5))\n",
        "print(cal2, add(4))\n",
        "print(cal2, add(1))\n",
        "\n"
      ],
      "metadata": {
        "colab": {
          "base_uri": "https://localhost:8080/"
        },
        "id": "gpx523Yp2okq",
        "outputId": "2759bb38-8a0c-4407-edd4-d0cc30e7383d"
      },
      "execution_count": 70,
      "outputs": [
        {
          "output_type": "stream",
          "name": "stdout",
          "text": [
            "<__main__.Cal object at 0x7fa0e3d34ca0> 138\n",
            "<__main__.Cal object at 0x7fa0e3d34ca0> 139\n",
            "<__main__.Cal object at 0x7fa0e3d34ca0> 142\n",
            "\n",
            "<__main__.Cal object at 0x7fa0e3d34910> 147\n",
            "<__main__.Cal object at 0x7fa0e3d34910> 151\n",
            "<__main__.Cal object at 0x7fa0e3d34910> 152\n"
          ]
        }
      ]
    },
    {
      "cell_type": "code",
      "source": [
        "class BigCal:\n",
        "  def setdata(self,first,second): #self는 호출한 객체의 이름이 온다.\n",
        "    self.first = first\n",
        "    self.second = second\n",
        "\n",
        "  def add(self):\n",
        "    result = self.first + self.second\n",
        "    return result\n",
        "\n",
        "cal1 = BigCal()\n",
        "cal2 = BigCal()\n",
        "\n",
        "cal1.setdata(2,3) #2가 first 3이 second self는 cal1이 된다.\n",
        "cal2.setdata(4,2) #4가 first 2이 second self는 cal2이 된다.\n",
        "\n",
        "print(cal1.first)\n",
        "print(cal2.first)\n",
        "\n",
        "print(cal1.add())\n",
        "print(cal2.add())\n",
        "\n",
        "#하나의 클래스로 생성된 여러개의 객체들은 각각 다른 성질을 유지한다."
      ],
      "metadata": {
        "colab": {
          "base_uri": "https://localhost:8080/"
        },
        "id": "uLrFUecb4heV",
        "outputId": "cf849a82-b2e4-4750-a117-f5f9d95cd994"
      },
      "execution_count": 55,
      "outputs": [
        {
          "output_type": "stream",
          "name": "stdout",
          "text": [
            "2\n",
            "4\n",
            "5\n",
            "6\n"
          ]
        }
      ]
    },
    {
      "cell_type": "code",
      "source": [
        "class BigCal:\n",
        "  def setdata(self,first,second): #self는 호출한 객체의 이름이 온다.\n",
        "    self.first = first\n",
        "    self.second = second\n",
        "\n",
        "  def add(self):\n",
        "    result = self.first + self.second\n",
        "    return result\n",
        "\n",
        "  def sub(self):\n",
        "    result = self.first - self.second\n",
        "    return result\n",
        "\n",
        "  def mul(self):\n",
        "    result = self.first * self.second\n",
        "    return result\n",
        "\n",
        "cal1 = BigCal()\n",
        "cal2 = BigCal()\n",
        "\n",
        "cal1.setdata(2,3) #2가 first 3이 second self는 cal1이 된다.\n",
        "cal2.setdata(4,2) #4가 first 2이 second self는 cal2이 된다.\n",
        "\n",
        "print(cal1.first)\n",
        "print(cal2.first)\n",
        "\n",
        "print(cal1.add())\n",
        "print(cal2.add())\n",
        "\n",
        "print(cal1.mul())\n",
        "print(cal2.mul())"
      ],
      "metadata": {
        "colab": {
          "base_uri": "https://localhost:8080/"
        },
        "id": "O9BVAu3M798g",
        "outputId": "4860757b-08a4-4fdd-ee44-786a0864eed3"
      },
      "execution_count": 59,
      "outputs": [
        {
          "output_type": "stream",
          "name": "stdout",
          "text": [
            "2\n",
            "4\n",
            "5\n",
            "6\n",
            "6\n",
            "8\n"
          ]
        }
      ]
    },
    {
      "cell_type": "code",
      "source": [
        "class BigCal:\n",
        "  def __init__(self, first, second):\n",
        "    self.first = first\n",
        "    self.second = second\n",
        "#  def setdata(self,first,second): #self는 호출한 객체의 이름이 온다.\n",
        "#    self.first = first\n",
        "#    self.second = second\n",
        "\n",
        "  def add(self):\n",
        "    result = self.first + self.second\n",
        "    return result\n",
        "\n",
        "  def sub(self):\n",
        "    result = self.first - self.second\n",
        "    return result\n",
        "\n",
        "  def mul(self):\n",
        "    result = self.first * self.second\n",
        "    return result\n",
        "\n",
        "#cal1 = BigCal()\n",
        "#cal2 = BigCal()\n",
        "\n",
        "#cal1.setdata(2,3) #2가 first 3이 second self는 cal1이 된다.\n",
        "#cal2.setdata(4,2) #4가 first 2이 second self는 cal2이 된다.\n",
        "\n",
        "cal1 = BigCal(2,3)\n",
        "cal2 = BigCal(4,2)\n",
        "\n",
        "print(cal1.first)\n",
        "print(cal2.first)\n",
        "\n",
        "print(cal1.add())\n",
        "print(cal2.add())\n",
        "\n",
        "print(cal1.mul())\n",
        "print(cal2.mul())"
      ],
      "metadata": {
        "colab": {
          "base_uri": "https://localhost:8080/"
        },
        "id": "h5AJZqIg8_W9",
        "outputId": "925d697b-6505-4725-b950-da220dc635de"
      },
      "execution_count": 60,
      "outputs": [
        {
          "output_type": "stream",
          "name": "stdout",
          "text": [
            "2\n",
            "4\n",
            "5\n",
            "6\n",
            "6\n",
            "8\n"
          ]
        }
      ]
    },
    {
      "cell_type": "code",
      "source": [
        "#상속 Inheritance\n",
        "#자바는 다중상속을 지원하지 않는 반면 파이썬은 다중상속을 지원한다.\n"
      ],
      "metadata": {
        "id": "0es8--8m814f"
      },
      "execution_count": null,
      "outputs": []
    }
  ]
}