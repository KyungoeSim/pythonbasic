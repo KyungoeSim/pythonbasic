{
  "nbformat": 4,
  "nbformat_minor": 0,
  "metadata": {
    "colab": {
      "provenance": [],
      "authorship_tag": "ABX9TyOC55UOOc1ws7ZvacItaQRT",
      "include_colab_link": true
    },
    "kernelspec": {
      "name": "python3",
      "display_name": "Python 3"
    },
    "language_info": {
      "name": "python"
    }
  },
  "cells": [
    {
      "cell_type": "markdown",
      "metadata": {
        "id": "view-in-github",
        "colab_type": "text"
      },
      "source": [
        "<a href=\"https://colab.research.google.com/github/KyungoeSim/pythonbasic/blob/main/PythonDay3.ipynb\" target=\"_parent\"><img src=\"https://colab.research.google.com/assets/colab-badge.svg\" alt=\"Open In Colab\"/></a>"
      ]
    },
    {
      "cell_type": "code",
      "execution_count": null,
      "metadata": {
        "colab": {
          "base_uri": "https://localhost:8080/"
        },
        "id": "gdzaUtGNHjmk",
        "outputId": "68d96643-3e06-4d15-a715-0adb52404e60"
      },
      "outputs": [
        {
          "output_type": "stream",
          "name": "stdout",
          "text": [
            "10\n"
          ]
        }
      ],
      "source": [
        "# 조건문 if\n",
        "\n",
        "#조건문은 특정 조건을 만족할때 실행되는 코드를 제어한다.\n",
        "#개발하다보면 여러가지 상황을 처리해야하는 경우가 발생한다.\n",
        "#이때 조건문을 통해 실행 되거나 또는 실행되지 않는 코드를 정의할 수 있다.\n",
        "\n",
        "#if 의 기본 문법\n",
        "\n",
        "#자바에서의 기본 if문\n",
        "#if(조건식){\n",
        "#    만족하는 경우:\n",
        "#}\n",
        "\n",
        "\n",
        "#파이썬에서의 기본 if문\n",
        "#if 조건식:                         #조건식 뒤에 : 콜론 잊지말자. 중괄호는 사용하지 않는다.\n",
        "#   조건을 만족하는 경우의 실행코드 #파이썬은 들여쓰기에 매우 민감하다.\n",
        "\n",
        "#조건식에는 항상 언제나 true와 false 만 올 수 있다.\n",
        "#다시한번 강조하지만 만약 들여쓰기 하지 안흐면 오류가 발생된다.\n",
        "\n",
        "x=10\n",
        "if x == 10:\n",
        "  print(x)"
      ]
    },
    {
      "cell_type": "code",
      "source": [
        "a = int(input('정수를 입력하세요'))\n",
        "if a == 5:\n",
        "  print(f'입력한 값은 {a} 입니다.')"
      ],
      "metadata": {
        "colab": {
          "base_uri": "https://localhost:8080/"
        },
        "id": "GKpuRwTWJ-Z9",
        "outputId": "c1275b4e-ca07-45b5-bdb9-ca3f3fc0825e"
      },
      "execution_count": null,
      "outputs": [
        {
          "output_type": "stream",
          "name": "stdout",
          "text": [
            "정수를 입력하세요5\n",
            "입력한 값은 5 입니다.\n"
          ]
        }
      ]
    },
    {
      "cell_type": "code",
      "source": [
        "#조건식을 여러개 취급해야하는 경우 가능하면 중첩 if 문은 사용하지 말자\n",
        "x=15\n",
        "\n",
        "if x>=10:\n",
        "  print('x는 10이상입니다.')\n",
        "  if x <= 20:\n",
        "    print('x는 20 이하입니다')\n",
        "  if x == 15:\n",
        "    print('x는 15입니다.')"
      ],
      "metadata": {
        "colab": {
          "base_uri": "https://localhost:8080/"
        },
        "id": "rTHloD6DLhw_",
        "outputId": "efa284fb-fc10-4c50-df25-5c99fbf3d050"
      },
      "execution_count": null,
      "outputs": [
        {
          "output_type": "stream",
          "name": "stdout",
          "text": [
            "x는 10이상입니다.\n",
            "x는 20 이하입니다\n",
            "x는 15입니다.\n"
          ]
        }
      ]
    },
    {
      "cell_type": "code",
      "source": [
        "a = int(input('숫자를 입력하세요'))\n",
        "\n",
        "if a > 5:\n",
        "  print('입력값이 5보다 큽니다.')\n",
        "else :\n",
        "  print('입력값이 5보다 작거나 같습니다')"
      ],
      "metadata": {
        "colab": {
          "base_uri": "https://localhost:8080/"
        },
        "id": "vDhL0OgvMXQe",
        "outputId": "414cdd34-387e-45dd-efcc-956d60e821a7"
      },
      "execution_count": null,
      "outputs": [
        {
          "output_type": "stream",
          "name": "stdout",
          "text": [
            "숫자를 입력하세요3\n",
            "입력값이 5보다 작거나 같습니다\n"
          ]
        }
      ]
    },
    {
      "cell_type": "code",
      "source": [
        "a = int(input('숫자를 입력하세요'))\n",
        "\n",
        "if a > 5:\n",
        "  print('입력값이 5보다 큽니다.')\n",
        "elif a == 5:\n",
        "  print('입력값이 5 입니다.')\n",
        "else :\n",
        "  print('입력값이 5보다 작습니다')"
      ],
      "metadata": {
        "colab": {
          "base_uri": "https://localhost:8080/"
        },
        "id": "LXQNUPASMxVY",
        "outputId": "0efdcfae-6d7d-443b-8e03-69ad6c6662a5"
      },
      "execution_count": null,
      "outputs": [
        {
          "output_type": "stream",
          "name": "stdout",
          "text": [
            "숫자를 입력하세요5\n",
            "입력값이 5 입니다.\n"
          ]
        }
      ]
    },
    {
      "cell_type": "code",
      "source": [
        "no = int(input('1부터 5사이의 값을 입력하세요'))\n",
        "\n",
        "if no < 5 and no >= 4:\n",
        "  print('입력값은 4입니다.')\n",
        "elif no < 4 and no >= 3:\n",
        "  print('입력값은 3입니다.')\n",
        "elif no < 3 and no >= 2:\n",
        "  print('입력값은 2입니다.')\n",
        "elif no < 2 and no >= 1:\n",
        "  print('입력값은 1입니다.')\n",
        "else:\n",
        "  print('입력값은 5입니다.')\n"
      ],
      "metadata": {
        "colab": {
          "base_uri": "https://localhost:8080/"
        },
        "id": "SgWfSI6UNc9-",
        "outputId": "b1a10211-563c-4636-a870-4f13c1bc9850"
      },
      "execution_count": null,
      "outputs": [
        {
          "output_type": "stream",
          "name": "stdout",
          "text": [
            "1부터 5사이의 값을 입력하세요3\n",
            "입력값은 3입니다.\n"
          ]
        }
      ]
    },
    {
      "cell_type": "code",
      "source": [
        "#q1 월을 입력하세요? 해당 계절을 출력하세요. 3,4,5 봄 / 6,7,8 여름 / 9,10,11 가을 /12,1,2 겨울\n",
        "month = int(input('월을 입력하세요.>'))\n",
        "if month >= 3 and month <= 5:\n",
        "  print(f'{month}월은 봄 입니다.')\n",
        "elif month >= 6 and month <= 8:\n",
        "  print(f'{month}월은 여름 입니다.')\n",
        "elif month >= 9 and month <= 11:\n",
        "  print(f'{month}월은 가을 입니다.')\n",
        "else:\n",
        "  print(f'{month}월은 겨울 입니다.')"
      ],
      "metadata": {
        "colab": {
          "base_uri": "https://localhost:8080/"
        },
        "id": "TGCXQR73Pm3p",
        "outputId": "a6b73e59-fb5b-4f4c-d137-79fb57684dee"
      },
      "execution_count": null,
      "outputs": [
        {
          "output_type": "stream",
          "name": "stdout",
          "text": [
            "월을 입력하세요12\n",
            "12월은 겨울 입니다.\n"
          ]
        }
      ]
    },
    {
      "cell_type": "code",
      "source": [
        "# 정수 하나를 입력 받아서 그 수가 홀수인지 짝수인지를 알려주는 프로그램을 만드세요.\n",
        "num = int(input('숫자를 입력하세요.>'))\n",
        "if num % 2 == 0:\n",
        "  print(f'입력하신 {num}은 짝수입니다.')\n",
        "else:\n",
        "  print(f'입력하신 {num}은 홀수입니다.')\n"
      ],
      "metadata": {
        "colab": {
          "base_uri": "https://localhost:8080/"
        },
        "id": "qIND4PO7Uqth",
        "outputId": "d257a7ae-4ef1-4078-fcc9-4492e6a8abb6"
      },
      "execution_count": null,
      "outputs": [
        {
          "output_type": "stream",
          "name": "stdout",
          "text": [
            "숫자를 입력하세요.>4\n",
            "입력하신 4은 짝수입니다.\n"
          ]
        }
      ]
    },
    {
      "cell_type": "code",
      "source": [
        "#조건부 표현식 if expression\n",
        "#자바의 삼항연산자와는 달리 if를 사용하여 표현한다.\n",
        "\n",
        "num = int(input('숫자를 입력하세요.>'))\n",
        "\n",
        "answer = '짝수' if num % 2 == 0 else \"홀수\" #true출력값 if조건식 else false출력값\n",
        "print(f'입력하신 {num}은 {answer}입니다.')"
      ],
      "metadata": {
        "colab": {
          "base_uri": "https://localhost:8080/"
        },
        "id": "uDbbdKSxVbf3",
        "outputId": "2b7d42bf-4b12-498f-c6d5-49ab711439bd"
      },
      "execution_count": null,
      "outputs": [
        {
          "output_type": "stream",
          "name": "stdout",
          "text": [
            "숫자를 입력하세요.>4\n",
            "입력하신 4은 짝수입니다.\n"
          ]
        }
      ]
    },
    {
      "cell_type": "code",
      "source": [
        "# if와 in 연산자\n",
        "list1 = ['봄','가을']\n",
        "\n",
        "input1 = input('어느 계절을 좋아하시나요?')\n",
        "\n",
        "if input1 in list1:\n",
        "  print(f'{input1}은 여행 가능한 목록에 있습니다.')\n",
        "else:\n",
        "  print(f'{input1}은 여행이 불가능합니다.')"
      ],
      "metadata": {
        "colab": {
          "base_uri": "https://localhost:8080/"
        },
        "id": "qk62zWP5W8aM",
        "outputId": "89469a35-20b6-4eed-9ed5-3c6661df6d0d"
      },
      "execution_count": null,
      "outputs": [
        {
          "output_type": "stream",
          "name": "stdout",
          "text": [
            "어느 계절을 좋아하시나요?봄\n",
            "봄은 여행 가능한 목록에 있습니다.\n"
          ]
        }
      ]
    },
    {
      "cell_type": "code",
      "source": [
        "#성적을 입력 받아서 59점 까지는 F학점\n",
        "#69점까지는 D학점\n",
        "#79점까지는 C학점\n",
        "#89점까지는 B학점\n",
        "#100점까지는 A학점\n",
        "\n",
        "num=int(input('점수를 입력해주세요.>'))\n",
        "\n",
        "if num >= 0 and num <= 59:\n",
        "  answer = 'F'\n",
        "elif num >= 60 and num <= 69:\n",
        "  answer = 'D'\n",
        "elif num >= 70 and num <= 79:\n",
        "  answer = 'C'\n",
        "elif num >= 79 and num <= 89:\n",
        "  answer = 'B'\n",
        "else:\n",
        "  answer = 'A'\n",
        "\n",
        "print(f'당신의 점수 {num}은 {answer}학점 입니다.')\n"
      ],
      "metadata": {
        "colab": {
          "base_uri": "https://localhost:8080/"
        },
        "id": "fpnLim9AX88b",
        "outputId": "e5a60ff6-7269-448d-e299-9c472b22816f"
      },
      "execution_count": null,
      "outputs": [
        {
          "output_type": "stream",
          "name": "stdout",
          "text": [
            "점수를 입력해주세요.>60\n",
            "당신의 점수 60은 D학점 입니다.\n"
          ]
        }
      ]
    },
    {
      "cell_type": "code",
      "source": [
        "#반복문 While For\n",
        "\n",
        "#While 은 반복횟수가 불명확할때 주로 사용되고\n",
        "#For 문은 반복횟수가 명확할 때 주로 사용된다.\n",
        "\n",
        "#예를 들어 hi를 10번 반복하여 출력하고자 한다.\n",
        "\n",
        "for i in range(10): \n",
        "  print('hi')\n",
        "\n",
        "#range는 인수 3개가 기본이다. range(start,stop,step)\n",
        "#start 생략가능 0에서 시작 step 생략가능 하나씩 증가"
      ],
      "metadata": {
        "colab": {
          "base_uri": "https://localhost:8080/"
        },
        "id": "6dIQONADahgF",
        "outputId": "6a85a3ed-341d-45ba-d64e-193aed962496"
      },
      "execution_count": null,
      "outputs": [
        {
          "output_type": "stream",
          "name": "stdout",
          "text": [
            "hi\n",
            "hi\n",
            "hi\n",
            "hi\n",
            "hi\n",
            "hi\n",
            "hi\n",
            "hi\n",
            "hi\n",
            "hi\n"
          ]
        }
      ]
    },
    {
      "cell_type": "code",
      "source": [
        "list1 = [10,30,20,50]\n",
        "\n",
        "for i in range(1):\n",
        "  print(list1[0])"
      ],
      "metadata": {
        "colab": {
          "base_uri": "https://localhost:8080/"
        },
        "id": "gDghiC3pcmqj",
        "outputId": "63a72071-46a9-4ce3-e538-b2fc06e2e918"
      },
      "execution_count": null,
      "outputs": [
        {
          "output_type": "stream",
          "name": "stdout",
          "text": [
            "10\n"
          ]
        }
      ]
    },
    {
      "cell_type": "code",
      "source": [
        "#리스트와 for문을 이용하여 1~100까지의 합 구하기\n",
        "\n",
        "numbers = list(range(1,101))\n",
        "sum = 0\n",
        "for number in numbers:\n",
        "   sum += number\n",
        "print(\"합은\",sum)"
      ],
      "metadata": {
        "colab": {
          "base_uri": "https://localhost:8080/"
        },
        "id": "QDHJM3J2dcyR",
        "outputId": "0b4a5288-ca78-473d-86c8-e92729868d89"
      },
      "execution_count": 85,
      "outputs": [
        {
          "output_type": "stream",
          "name": "stdout",
          "text": [
            "합은 5050\n"
          ]
        }
      ]
    },
    {
      "cell_type": "code",
      "source": [
        "#2중 for문\n",
        "for x in range(2,10):\n",
        "  for y in range(1,10):\n",
        "   print(x,\"*\", y, \"=\", x*y , end=\" \")\n",
        "  print(\"\")\n",
        "#단별로 옆으로 한줄로 찍기\n"
      ],
      "metadata": {
        "colab": {
          "base_uri": "https://localhost:8080/"
        },
        "id": "i64Kw4YxiXwl",
        "outputId": "a58c75a2-fb85-40de-d906-37a71799d0db"
      },
      "execution_count": 89,
      "outputs": [
        {
          "output_type": "stream",
          "name": "stdout",
          "text": [
            "2 * 1 = 2 2 * 2 = 4 2 * 3 = 6 2 * 4 = 8 2 * 5 = 10 2 * 6 = 12 2 * 7 = 14 2 * 8 = 16 2 * 9 = 18 \n",
            "3 * 1 = 3 3 * 2 = 6 3 * 3 = 9 3 * 4 = 12 3 * 5 = 15 3 * 6 = 18 3 * 7 = 21 3 * 8 = 24 3 * 9 = 27 \n",
            "4 * 1 = 4 4 * 2 = 8 4 * 3 = 12 4 * 4 = 16 4 * 5 = 20 4 * 6 = 24 4 * 7 = 28 4 * 8 = 32 4 * 9 = 36 \n",
            "5 * 1 = 5 5 * 2 = 10 5 * 3 = 15 5 * 4 = 20 5 * 5 = 25 5 * 6 = 30 5 * 7 = 35 5 * 8 = 40 5 * 9 = 45 \n",
            "6 * 1 = 6 6 * 2 = 12 6 * 3 = 18 6 * 4 = 24 6 * 5 = 30 6 * 6 = 36 6 * 7 = 42 6 * 8 = 48 6 * 9 = 54 \n",
            "7 * 1 = 7 7 * 2 = 14 7 * 3 = 21 7 * 4 = 28 7 * 5 = 35 7 * 6 = 42 7 * 7 = 49 7 * 8 = 56 7 * 9 = 63 \n",
            "8 * 1 = 8 8 * 2 = 16 8 * 3 = 24 8 * 4 = 32 8 * 5 = 40 8 * 6 = 48 8 * 7 = 56 8 * 8 = 64 8 * 9 = 72 \n",
            "9 * 1 = 9 9 * 2 = 18 9 * 3 = 27 9 * 4 = 36 9 * 5 = 45 9 * 6 = 54 9 * 7 = 63 9 * 8 = 72 9 * 9 = 81 \n"
          ]
        }
      ]
    },
    {
      "cell_type": "code",
      "source": [
        "#while\n",
        "\n",
        "#while 조건식:\n",
        "#수행시킬 구문\n",
        "\n",
        "#while True: #조건에 True 따라서 무한 반복\n",
        "#print(\"hi\")"
      ],
      "metadata": {
        "id": "0fskfEFqkh9f"
      },
      "execution_count": 90,
      "outputs": []
    },
    {
      "cell_type": "code",
      "source": [
        "i = 10\n",
        "while i > 5:\n",
        "  print('hi')\n",
        "  i -= 1 #파이썬은 자바처럼 i++ 즉 증감연산자는 사용하지 않는다."
      ],
      "metadata": {
        "colab": {
          "base_uri": "https://localhost:8080/"
        },
        "id": "JC1N2uQhlbLU",
        "outputId": "e17a4231-9a18-44bc-dcf6-13ebebbc8126"
      },
      "execution_count": 51,
      "outputs": [
        {
          "output_type": "stream",
          "name": "stdout",
          "text": [
            "hi\n",
            "hi\n",
            "hi\n",
            "hi\n",
            "hi\n"
          ]
        }
      ]
    },
    {
      "cell_type": "code",
      "source": [
        "import random\n",
        "\n",
        "temp_no = 0\n",
        "while temp_no != 3: #3이 나올때 까지 반복하여 난수 발생\n",
        "  temp_no = random.randint(1,6)\n",
        "  print(f'발생된 난수는 {temp_no} 입니다.')"
      ],
      "metadata": {
        "colab": {
          "base_uri": "https://localhost:8080/"
        },
        "id": "3Dtb2KPcmO17",
        "outputId": "b6c5557a-5eb4-4873-a82f-c7c49bd1ef0b"
      },
      "execution_count": 91,
      "outputs": [
        {
          "output_type": "stream",
          "name": "stdout",
          "text": [
            "발생된 난수는 1 입니다.\n",
            "발생된 난수는 1 입니다.\n",
            "발생된 난수는 3 입니다.\n"
          ]
        }
      ]
    },
    {
      "cell_type": "code",
      "source": [
        "#난수 발생 정리\n",
        "\n",
        "import random #random 모듈 임포트 후 사용\n",
        "\n",
        "random.random() #0에서 1미만 실수 float으로 생성\n"
      ],
      "metadata": {
        "colab": {
          "base_uri": "https://localhost:8080/"
        },
        "id": "T0FJloVsnwv2",
        "outputId": "14597aca-0786-41f2-c86f-171ee5a42f66"
      },
      "execution_count": 58,
      "outputs": [
        {
          "output_type": "execute_result",
          "data": {
            "text/plain": [
              "0.8269414875653945"
            ]
          },
          "metadata": {},
          "execution_count": 58
        }
      ]
    },
    {
      "cell_type": "code",
      "source": [
        "random.randint(1,10) #1에서 10이하의 정수 하나 발생"
      ],
      "metadata": {
        "colab": {
          "base_uri": "https://localhost:8080/"
        },
        "id": "ZCh1G6EnoET5",
        "outputId": "59c99e67-66ac-489b-9c47-1cb7fbada9ad"
      },
      "execution_count": 82,
      "outputs": [
        {
          "output_type": "execute_result",
          "data": {
            "text/plain": [
              "2"
            ]
          },
          "metadata": {},
          "execution_count": 82
        }
      ]
    },
    {
      "cell_type": "code",
      "source": [
        "random.randrange(0,10,2) #0에서 10미만의 2의 배수로 난수 발생"
      ],
      "metadata": {
        "colab": {
          "base_uri": "https://localhost:8080/"
        },
        "id": "YMrWMH7ZoRbB",
        "outputId": "66711d76-b2fb-488d-d00c-e4b4ce450887"
      },
      "execution_count": 60,
      "outputs": [
        {
          "output_type": "execute_result",
          "data": {
            "text/plain": [
              "4"
            ]
          },
          "metadata": {},
          "execution_count": 60
        }
      ]
    },
    {
      "cell_type": "code",
      "source": [
        "random.choice(['봄','여름','가을','겨울']) #리스트의 값들 중 하나를 임의로 선택"
      ],
      "metadata": {
        "colab": {
          "base_uri": "https://localhost:8080/",
          "height": 36
        },
        "id": "P7ColePmom1V",
        "outputId": "a42abad8-78f3-4709-facd-dee001681bc6"
      },
      "execution_count": 62,
      "outputs": [
        {
          "output_type": "execute_result",
          "data": {
            "text/plain": [
              "'봄'"
            ],
            "application/vnd.google.colaboratory.intrinsic+json": {
              "type": "string"
            }
          },
          "metadata": {},
          "execution_count": 62
        }
      ]
    },
    {
      "cell_type": "code",
      "source": [
        "random.sample(range(1,46),6) #1부터 46까지 숫자중 6개 추출"
      ],
      "metadata": {
        "colab": {
          "base_uri": "https://localhost:8080/"
        },
        "id": "leLwNrz9o1HY",
        "outputId": "15bfd911-6d50-4a6f-a6dc-21cf2e5d671a"
      },
      "execution_count": 64,
      "outputs": [
        {
          "output_type": "execute_result",
          "data": {
            "text/plain": [
              "[4, 12, 11, 40, 23, 27]"
            ]
          },
          "metadata": {},
          "execution_count": 64
        }
      ]
    },
    {
      "cell_type": "code",
      "source": [
        "list1 = [1,2,3,4,5]\n",
        "\n",
        "random.shuffle(list1)\n",
        "print(list1)"
      ],
      "metadata": {
        "colab": {
          "base_uri": "https://localhost:8080/"
        },
        "id": "0JpUyYfOpUxw",
        "outputId": "cea9755d-31d0-45e2-d494-c8148efd351f"
      },
      "execution_count": 68,
      "outputs": [
        {
          "output_type": "stream",
          "name": "stdout",
          "text": [
            "[5, 3, 4, 1, 2]\n"
          ]
        }
      ]
    },
    {
      "cell_type": "code",
      "source": [
        "#break 강제로 while문 빠져나가기\n",
        "#continue 하단의 내용은 건너뛰고 다시 반복문으로 들어가기\n",
        "\n",
        "i = 0\n",
        "\n",
        "while i < 10:\n",
        "  i += 1\n",
        "  if i % 2 == 0:\n",
        "    print(i)"
      ],
      "metadata": {
        "colab": {
          "base_uri": "https://localhost:8080/"
        },
        "id": "UquZq62zqXbj",
        "outputId": "8e285d90-f30d-4a2c-bb78-b77bd10637f4"
      },
      "execution_count": 92,
      "outputs": [
        {
          "output_type": "stream",
          "name": "stdout",
          "text": [
            "2\n",
            "4\n",
            "6\n",
            "8\n",
            "10\n"
          ]
        }
      ]
    },
    {
      "cell_type": "code",
      "source": [
        "i = 0\n",
        "\n",
        "while i < 10:\n",
        "  i += 1\n",
        "  if i % 2 == 0: continue #짝수이면 다시 반복문으로 들어가서 홀수를 찍는다\n",
        "  print(i)"
      ],
      "metadata": {
        "colab": {
          "base_uri": "https://localhost:8080/"
        },
        "id": "aSLSMWAOrdxy",
        "outputId": "29544853-63bb-4148-fcbe-d51be56e7afe"
      },
      "execution_count": 93,
      "outputs": [
        {
          "output_type": "stream",
          "name": "stdout",
          "text": [
            "1\n",
            "3\n",
            "5\n",
            "7\n",
            "9\n"
          ]
        }
      ]
    },
    {
      "cell_type": "code",
      "source": [
        "i = 0\n",
        "\n",
        "while True:\n",
        "  i += 1\n",
        "  if i==10: break\n",
        "  print(i)"
      ],
      "metadata": {
        "colab": {
          "base_uri": "https://localhost:8080/"
        },
        "id": "I5AmcjxJrylo",
        "outputId": "006bfde1-b7ee-4c3c-ba0f-464ae62045d5"
      },
      "execution_count": 94,
      "outputs": [
        {
          "output_type": "stream",
          "name": "stdout",
          "text": [
            "1\n",
            "2\n",
            "3\n",
            "4\n",
            "5\n",
            "6\n",
            "7\n",
            "8\n",
            "9\n"
          ]
        }
      ]
    }
  ]
}