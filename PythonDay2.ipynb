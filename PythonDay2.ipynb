{
  "nbformat": 4,
  "nbformat_minor": 0,
  "metadata": {
    "colab": {
      "provenance": [],
      "authorship_tag": "ABX9TyNKsvDBxX8jwfHCDehiu7jQ",
      "include_colab_link": true
    },
    "kernelspec": {
      "name": "python3",
      "display_name": "Python 3"
    },
    "language_info": {
      "name": "python"
    }
  },
  "cells": [
    {
      "cell_type": "markdown",
      "metadata": {
        "id": "view-in-github",
        "colab_type": "text"
      },
      "source": [
        "<a href=\"https://colab.research.google.com/github/KyungoeSim/pythonbasic/blob/main/PythonDay2.ipynb\" target=\"_parent\"><img src=\"https://colab.research.google.com/assets/colab-badge.svg\" alt=\"Open In Colab\"/></a>"
      ]
    },
    {
      "cell_type": "code",
      "execution_count": 1,
      "metadata": {
        "colab": {
          "base_uri": "https://localhost:8080/"
        },
        "id": "4jRZUBHpgygd",
        "outputId": "f016ef24-2f2a-45d2-9c97-f1e0a6d6a430"
      },
      "outputs": [
        {
          "output_type": "execute_result",
          "data": {
            "text/plain": [
              "2"
            ]
          },
          "metadata": {},
          "execution_count": 1
        }
      ],
      "source": [
        "#문자 개수 세기 count\n",
        "\n",
        "a=\"school\"\n",
        "a.count('o')"
      ]
    },
    {
      "cell_type": "code",
      "source": [
        "#위치 알아내기(find) 만약 없는 문자를 찾는 경우 -1 출력\n",
        "\n",
        "a=\"school\"\n",
        "print(a.find('o'))\n",
        "print(a.find('z'))"
      ],
      "metadata": {
        "colab": {
          "base_uri": "https://localhost:8080/"
        },
        "id": "_qXwWKmQhq1M",
        "outputId": "c7df0bb9-740f-4ded-e7d2-31939f4c6f46"
      },
      "execution_count": 4,
      "outputs": [
        {
          "output_type": "stream",
          "name": "stdout",
          "text": [
            "3\n",
            "-1\n"
          ]
        }
      ]
    },
    {
      "cell_type": "code",
      "source": [
        "#위치 알아내기 (index) 만약 없는 문자를 찾는 경우 오류 출력\n",
        "\n",
        "a=\"school\"\n",
        "print(a.index('o'))\n",
        "#print(a.index('z')) ->오류"
      ],
      "metadata": {
        "colab": {
          "base_uri": "https://localhost:8080/"
        },
        "id": "5mBlK2cOhz35",
        "outputId": "fd3495cb-32a0-49da-8383-226e04508934"
      },
      "execution_count": 6,
      "outputs": [
        {
          "output_type": "stream",
          "name": "stdout",
          "text": [
            "3\n"
          ]
        }
      ]
    },
    {
      "cell_type": "code",
      "source": [
        "#문자 삽입 join\n",
        "\n",
        "print(\" \".join(\"abcd\"))\n",
        "print(\".\".join(\"abcd\"))"
      ],
      "metadata": {
        "colab": {
          "base_uri": "https://localhost:8080/"
        },
        "id": "ZUATD02DiTX_",
        "outputId": "21b47acc-c2f5-4e8a-c467-51faa1452e28"
      },
      "execution_count": 9,
      "outputs": [
        {
          "output_type": "stream",
          "name": "stdout",
          "text": [
            "a b c d\n",
            "a.b.c.d\n"
          ]
        }
      ]
    },
    {
      "cell_type": "code",
      "source": [
        "#대문자로 바꾸기 upper\n",
        "\n",
        "a='Hello'\n",
        "\n",
        "a.upper()"
      ],
      "metadata": {
        "colab": {
          "base_uri": "https://localhost:8080/",
          "height": 36
        },
        "id": "e6wftaeRitmb",
        "outputId": "bea293b0-d530-477f-f789-450c9d93f955"
      },
      "execution_count": 10,
      "outputs": [
        {
          "output_type": "execute_result",
          "data": {
            "text/plain": [
              "'HELLO'"
            ],
            "application/vnd.google.colaboratory.intrinsic+json": {
              "type": "string"
            }
          },
          "metadata": {},
          "execution_count": 10
        }
      ]
    },
    {
      "cell_type": "code",
      "source": [
        "#소문자로 바꾸기 lower\n",
        "\n",
        "a='Hello'\n",
        "\n",
        "a.lower()"
      ],
      "metadata": {
        "colab": {
          "base_uri": "https://localhost:8080/",
          "height": 36
        },
        "id": "DY9ciwomi32d",
        "outputId": "2a5e8685-e471-49fe-ea54-daa3a2635ade"
      },
      "execution_count": 11,
      "outputs": [
        {
          "output_type": "execute_result",
          "data": {
            "text/plain": [
              "'hello'"
            ],
            "application/vnd.google.colaboratory.intrinsic+json": {
              "type": "string"
            }
          },
          "metadata": {},
          "execution_count": 11
        }
      ]
    },
    {
      "cell_type": "code",
      "source": [
        "#공백 제거 왼쪽 lstrip\n",
        "\n",
        "a=' Hello'\n",
        "a.lstrip()"
      ],
      "metadata": {
        "colab": {
          "base_uri": "https://localhost:8080/",
          "height": 36
        },
        "id": "Gm7ped5zjCWe",
        "outputId": "e527cb3f-4814-4f40-d8bb-1d98cb59d413"
      },
      "execution_count": 12,
      "outputs": [
        {
          "output_type": "execute_result",
          "data": {
            "text/plain": [
              "'Hello'"
            ],
            "application/vnd.google.colaboratory.intrinsic+json": {
              "type": "string"
            }
          },
          "metadata": {},
          "execution_count": 12
        }
      ]
    },
    {
      "cell_type": "code",
      "source": [
        "#공백 제거 오른쪽 rstrip\n",
        "\n",
        "a='Hello     '\n",
        "a.rstrip()"
      ],
      "metadata": {
        "colab": {
          "base_uri": "https://localhost:8080/",
          "height": 36
        },
        "id": "rSxb8JIljOhv",
        "outputId": "40801c83-5efe-4589-cf36-a93e1b313d5a"
      },
      "execution_count": 15,
      "outputs": [
        {
          "output_type": "execute_result",
          "data": {
            "text/plain": [
              "'Hello'"
            ],
            "application/vnd.google.colaboratory.intrinsic+json": {
              "type": "string"
            }
          },
          "metadata": {},
          "execution_count": 15
        }
      ]
    },
    {
      "cell_type": "code",
      "source": [
        "#글자 바꾸기 replace\n",
        "\n",
        "a='I love you'\n",
        "a.replace('love', 'hate')"
      ],
      "metadata": {
        "colab": {
          "base_uri": "https://localhost:8080/",
          "height": 36
        },
        "id": "t2d97ajYjnRj",
        "outputId": "710d0e40-378a-4100-d5e8-75e0c75406ef"
      },
      "execution_count": 16,
      "outputs": [
        {
          "output_type": "execute_result",
          "data": {
            "text/plain": [
              "'I hate you'"
            ],
            "application/vnd.google.colaboratory.intrinsic+json": {
              "type": "string"
            }
          },
          "metadata": {},
          "execution_count": 16
        }
      ]
    },
    {
      "cell_type": "code",
      "source": [
        "#문자열 나누기 split\n",
        "\n",
        "addr = \"서울시 강남구 서초동 1111\"\n",
        "print(addr.split()) #생략하면 빈칸을 기준으로 분리\n",
        "\n",
        "addr = \"서울시 강남구 - 서초동 1111\"\n",
        "print(addr.split('-')) \n",
        "print(type(addr.split('-'))) #자료형 보기"
      ],
      "metadata": {
        "colab": {
          "base_uri": "https://localhost:8080/"
        },
        "id": "7eqRzCDgjzRD",
        "outputId": "782ddf78-9a90-4422-e767-9ce2805ac285"
      },
      "execution_count": 23,
      "outputs": [
        {
          "output_type": "stream",
          "name": "stdout",
          "text": [
            "['서울시', '강남구', '서초동', '1111']\n",
            "['서울시 강남구 ', ' 서초동 1111']\n",
            "<class 'list'>\n"
          ]
        }
      ]
    },
    {
      "cell_type": "code",
      "source": [
        "#LIST, TUPLE, DICT, SET\n",
        "#여러 데이터의 묶음 Collection 컬렉션"
      ],
      "metadata": {
        "id": "SmPyd2F15T0f"
      },
      "execution_count": null,
      "outputs": []
    },
    {
      "cell_type": "code",
      "source": [
        "#LIST\n",
        "# []대괄호로 만든다.\n",
        "# indexing & slicing이 가능하다.\n",
        "# mutable 수정 가능하다.\n",
        "\n",
        "a=[]\n",
        "b=[1,2,3]\n",
        "c=['a','b','c']\n",
        "d=[1,2,'a','b']\n",
        "\n",
        "print(b[0]) #인덱싱\n",
        "print(c[1:]) #슬라이싱\n",
        "print(d[-1]) #마지막 요소는 -1\n",
        "\n",
        "#a[0] = 9 #a리스트에는 아무 원소도 없어서 에러발생\n",
        "b[0]=9    #b리스트에는 원소가 있어서 수정 가능\n",
        "print(b)\n",
        "\n",
        "print(c)\n",
        "del c[2]  #리스트는 삭제가 가능하다.\n",
        "print(c)\n",
        "\n",
        "print(a)\n",
        "a.append(0) #리스트는 삽입이 가능하다.\n",
        "print(a)\n"
      ],
      "metadata": {
        "id": "3x1Vzd7IkrU7"
      },
      "execution_count": null,
      "outputs": []
    },
    {
      "cell_type": "code",
      "source": [
        "#리스트에서 많이 사용 되는 함수 정리\n",
        "\n",
        "#요소 추가 append - 파이썬은 어떠한 자료형도 함께 추가할 수 있다.\n",
        "a.append(0)\n",
        "print(a)\n",
        "a.append('a')\n",
        "print(a)\n",
        "\n",
        "#요소추가 insert\n",
        "d=[1,2,3]\n",
        "d.insert(0,4)\n",
        "\n",
        "#정렬 sort\n",
        "a=[1,3,2,4]\n",
        "a.sort()\n",
        "print(a)\n",
        "\n",
        "#뒤집기 reverse\n",
        "a.reverse()\n",
        "print(a)\n",
        "\n",
        "#인덱스 index\n",
        "a=[1,3,2,4]\n",
        "print(a.index(3))\n",
        "#a.index(5) 없는 요소는 에러 발생\n",
        "\n",
        "#삭제 remove\n",
        "print()\n",
        "a=[1,2,3,3,5]\n",
        "a.remove(3)\n",
        "print(a)\n"
      ],
      "metadata": {
        "id": "C43v9igXyTi-"
      },
      "execution_count": null,
      "outputs": []
    },
    {
      "cell_type": "code",
      "source": [
        "#삭제 remove 중복되는 수는 처음 등장하는 하나만 삭제한다.\n",
        "print()\n",
        "a=[1,2,3,3,5]\n",
        "a.remove(3)\n",
        "print(a)\n",
        "\n",
        "#삭제 pop 리스트의 마지막 요소를 삭제한다.\n",
        "a=[1,2,3]\n",
        "a.pop() #괄호에 값이 없으면 마지막 요소를 하나 삭제\n",
        "print(a)\n",
        "\n",
        "a=[1,2,3]\n",
        "a.pop(0) #괄호에 값이 있으면 그 요소를 삭제\n",
        "print(a)\n",
        "\n",
        "#개수 세기 count\n",
        "\n",
        "a=[1,2,2,3]\n",
        "print(a.count(3))\n"
      ],
      "metadata": {
        "id": "3ZH4OsoJ3Wx3"
      },
      "execution_count": null,
      "outputs": []
    },
    {
      "cell_type": "code",
      "source": [
        "#TUPLE\n",
        "#()소괄호로 만든다.\n",
        "#immutable 수정이 불가능하다.\n",
        "#indexing & slicing이 가능하다.\n",
        "#한 개의 요소로 tuple을 만들때는 (1,) 쉼표를 넣는다.\n",
        "\n",
        "a=()\n",
        "b=(1,)\n",
        "c=(1,2,3)\n",
        "d=(1,2,'a','b')\n",
        "\n",
        "#del d[0] immutable 수정이 불가능하다.\n",
        "#d[0] = 9 immutable 수정이 불가능하다.\n",
        "#d.append(5) immutable 삽입이 불가능하다.\n",
        "\n",
        "print(d[0]) #인덱싱이 가능하다.\n",
        "print(d[0:2]) #슬라이싱 가능하다. 마지막은 미만을 처리한다.\n",
        "\n",
        "print(len(d)) #튜플 요소의 개수를 반환하는 함수"
      ],
      "metadata": {
        "colab": {
          "base_uri": "https://localhost:8080/"
        },
        "id": "9MBaHGAdyOLb",
        "outputId": "18a268c1-afd6-4f86-c92a-e35eefd6e868"
      },
      "execution_count": 37,
      "outputs": [
        {
          "output_type": "stream",
          "name": "stdout",
          "text": [
            "1\n",
            "(1, 2)\n",
            "4\n"
          ]
        }
      ]
    },
    {
      "cell_type": "code",
      "source": [
        "#DICT\n",
        "#{} 중괄호로 만든다.\n",
        "#mutable 수정 가능하다.\n",
        "#indexing & slicing 이 불가능하다.\n",
        "#키값과 밸류 값으로 데이터가 저장된다.\n",
        "\n",
        "#세상의 많은 데이터가 키값:벨류값 형태로 표현된다. 이름:홍길동, 나이:20\n",
        "#이러한 대응 관계를 파이썬에서 데이터를 저장한느 방식을 딕셔너리라고 한다.\n",
        "#마치 JS의 JSON과 상당히 유사한 공통점을 가지고 있다.\n",
        "\n",
        "a={'이름':'홍길동', '나이':20}\n",
        "b={'이름':'홍길동', '나이':20, '보유코인':['비트코인','에이다','이더리움']}\n",
        "\n",
        "a['키']=185 #dict 는 mutable한 속성으로 삽입이 가능하다.\n",
        "print(a)\n",
        "del a['나이'] #dict 는 mutable한 속성으로 삭제가 가능하다.\n",
        "print(a)\n",
        "a['키']=190 #dict 는 mutable한 속성으로 수정이 가능하다.\n",
        "print(a)\n",
        "\n",
        "#a[0] #dict는 인덱싱이 불가하다.\n",
        "a[0:2] #dict는 슬라이싱이 불가능하다.\n"
      ],
      "metadata": {
        "colab": {
          "base_uri": "https://localhost:8080/"
        },
        "id": "hVuZWCcm5cxi",
        "outputId": "16284cd6-9763-4ad2-ee1d-e6cbe323c208"
      },
      "execution_count": 40,
      "outputs": [
        {
          "output_type": "stream",
          "name": "stdout",
          "text": [
            "{'이름': '홍길동', '나이': 20, '키': 185}\n",
            "{'이름': '홍길동', '키': 185}\n",
            "{'이름': '홍길동', '키': 190}\n"
          ]
        }
      ]
    },
    {
      "cell_type": "code",
      "source": [
        "#딕셔너리에서 많이 사용되는 함수 정리\n",
        "\n",
        "#딕셔너리에서 키값들만 추출\n",
        "a={'이름':'홍길동', '나이':20, '보유코인':['비트코인','에이다','이더리움']}\n",
        "print(a.keys())\n",
        "\n",
        "#딕셔너리에서 벨류값만 추출\n",
        "print(a.values())\n",
        "\n",
        "#쌍으로 추출(튜플 쌍으로 추출)\n",
        "print(a.items())\n",
        "\n",
        "#키값으로 벨류값 추출(인덱싱이 불가능하기 때문에 꺼낼때 많이 사용된다.)\n",
        "print(a['이름'])\n",
        "#print(a['몸무게']) #찾는 키값이 없을 때 예외 발생한다.\n",
        "\n",
        "#키값으로 벨류값 추출\n",
        "print(a.get('이름'))\n",
        "print(a.get('몸무게')) #찾는 키값이 없을 때 none 출력한다.\n",
        "\n",
        "#키가 딕셔너리안에 있는지 확인\n",
        "print('이름' in a)  #찾는 키값이 있을 때 true 반환\n",
        "print('몸무게' in a) #찾는 키값이 없을 때 false 반환"
      ],
      "metadata": {
        "colab": {
          "base_uri": "https://localhost:8080/"
        },
        "id": "4h-MF64Q8zE1",
        "outputId": "8bba41dd-aee5-495d-9845-baf17f870b3b"
      },
      "execution_count": 47,
      "outputs": [
        {
          "output_type": "stream",
          "name": "stdout",
          "text": [
            "dict_keys(['이름', '나이', '보유코인'])\n",
            "dict_values(['홍길동', 20, ['비트코인', '에이다', '이더리움']])\n",
            "dict_items([('이름', '홍길동'), ('나이', 20), ('보유코인', ['비트코인', '에이다', '이더리움'])])\n",
            "홍길동\n",
            "홍길동\n",
            "None\n",
            "True\n",
            "False\n"
          ]
        }
      ]
    },
    {
      "cell_type": "code",
      "source": [
        "#SET\n",
        "#{}중괄호로 만든다.\n",
        "#mutable 수정 가능하다.\n",
        "#indexing & slicing 이 불가능하다.\n",
        "#unordered 순서가 없다.\n",
        "#중복데이터를 허용하지 않는다.\n",
        "\n",
        "#a={} #딕셔너리와 set은 동일하게 {}을 사용한다. 그래서 빈값으로 생성할때는 주의하자.\n",
        "a=set()\n",
        "b={1,2,3}\n",
        "c={1,2,'a','b'}\n",
        "d={1,2,2,2,3,3,4,4}\n",
        "\n",
        "print(d)\n",
        "\n",
        "a.add(0)  #mutable 삽입 가능하다.\n",
        "print(a)\n",
        "print(c)\n",
        "c.remove(2)  #mutable 삭제 가능하다.\n",
        "print(c)"
      ],
      "metadata": {
        "colab": {
          "base_uri": "https://localhost:8080/"
        },
        "id": "kn7iRbQW6N1Z",
        "outputId": "c9c8be2b-3f28-457f-e164-44660b3872b5"
      },
      "execution_count": 50,
      "outputs": [
        {
          "output_type": "stream",
          "name": "stdout",
          "text": [
            "{1, 2, 3, 4}\n",
            "{0}\n",
            "{1, 2, 'b', 'a'}\n",
            "{1, 'b', 'a'}\n"
          ]
        }
      ]
    },
    {
      "cell_type": "code",
      "source": [
        "#불 Bool 자료형 boolean\n",
        "\n",
        "#반드시 대문자로 시작한다.\n",
        "\n",
        "a=True\n",
        "b=False\n",
        "c=\"true\"\n",
        "\n",
        "print(type(a))\n",
        "print(type(c))\n",
        "\n",
        "print(1==1)\n",
        "print(1!=1)"
      ],
      "metadata": {
        "colab": {
          "base_uri": "https://localhost:8080/"
        },
        "id": "MSG6GvGzEc3y",
        "outputId": "534b014a-eb6b-45bd-e965-ae03be6a65b2"
      },
      "execution_count": 52,
      "outputs": [
        {
          "output_type": "stream",
          "name": "stdout",
          "text": [
            "<class 'bool'>\n",
            "<class 'str'>\n",
            "True\n",
            "False\n"
          ]
        }
      ]
    },
    {
      "cell_type": "code",
      "source": [
        "#키보드로 입력받기\n",
        "\n",
        "a=input()\n",
        "print(a)\n",
        "\n",
        "a=input(\"지금이 오후인가요\") #input에 프린트 기능도 있음\n",
        "print(a)"
      ],
      "metadata": {
        "colab": {
          "base_uri": "https://localhost:8080/"
        },
        "id": "SW_eSR24FJYM",
        "outputId": "c9a4742b-c00a-462f-a28c-55ef628ab89e"
      },
      "execution_count": 54,
      "outputs": [
        {
          "output_type": "stream",
          "name": "stdout",
          "text": [
            "ㄴㄴ\n",
            "ㄴㄴ\n",
            "지금이 오후인가요ㄴㄴ\n",
            "ㄴㄴ\n"
          ]
        }
      ]
    },
    {
      "cell_type": "code",
      "source": [
        "#input은 파이썬에서 입력받은 모든걸 일단 먼저 문자 취급한다.\n",
        "#a=input(\"지금부터 한시간 뒤는?\")\n",
        "#print(a+1)\n",
        "\n",
        "a=int(input(\"지금부터 한시간 뒤는?\"))\n",
        "print(a+1)"
      ],
      "metadata": {
        "colab": {
          "base_uri": "https://localhost:8080/"
        },
        "id": "yeIYH721Fofr",
        "outputId": "e414ac4d-fb3f-48e8-9f32-4aad45fb8c0f"
      },
      "execution_count": 55,
      "outputs": [
        {
          "output_type": "stream",
          "name": "stdout",
          "text": [
            "지금부터 한시간 뒤는?3\n",
            "4\n"
          ]
        }
      ]
    },
    {
      "cell_type": "code",
      "source": [
        "subjects=['a','b','c','d']\n",
        "print(subjects)\n",
        "a=input(\"싫어하는 과목은?\")\n",
        "subjects.remove(a)\n",
        "print(subjects)"
      ],
      "metadata": {
        "colab": {
          "base_uri": "https://localhost:8080/"
        },
        "id": "t-Dh_m2AIphr",
        "outputId": "3797e76c-c8fc-44bc-d6b5-0ef1eb6f7059"
      },
      "execution_count": 65,
      "outputs": [
        {
          "output_type": "stream",
          "name": "stdout",
          "text": [
            "['a', 'b', 'c', 'd']\n",
            "싫어하는 과목은?a\n",
            "['b', 'c', 'd']\n"
          ]
        }
      ]
    },
    {
      "cell_type": "code",
      "source": [
        "dict={}\n",
        "\n",
        "q1 = input(\"food u like :\")\n",
        "dict[1]=q1\n",
        "\n",
        "q2 = input(\"food u like :\")\n",
        "dict[2]=q2\n",
        "\n",
        "q3 = input(\"food u like :\")\n",
        "dict[3]=q3\n",
        "\n",
        "q4 = input(\"food u like :\")\n",
        "dict[4]=q4\n",
        "\n",
        "q5 = input(\"food u dislike :\")\n",
        "del dict[(q5)]\n",
        "\n",
        "print(dict)"
      ],
      "metadata": {
        "id": "MP29vIuoKhio"
      },
      "execution_count": null,
      "outputs": []
    },
    {
      "cell_type": "code",
      "source": [
        "a=[1,2,3,4,5,6,7,8,9,10]\n",
        "start=(a[4])\n",
        "end=(a[9])\n",
        "print(a[start:end])"
      ],
      "metadata": {
        "colab": {
          "base_uri": "https://localhost:8080/"
        },
        "id": "0umOiP8EN2DY",
        "outputId": "7add2cb5-b005-40cb-e34d-f8a452dc6f65"
      },
      "execution_count": 81,
      "outputs": [
        {
          "output_type": "stream",
          "name": "stdout",
          "text": [
            "[6, 7, 8, 9, 10]\n"
          ]
        }
      ]
    }
  ]
}